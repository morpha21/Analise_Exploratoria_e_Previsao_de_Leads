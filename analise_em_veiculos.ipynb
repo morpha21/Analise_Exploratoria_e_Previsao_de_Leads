{
 "cells": [
  {
   "cell_type": "markdown",
   "metadata": {
    "id": "Kfka_WMqGT82"
   },
   "source": [
    "# Início\n",
    "\n",
    "Temos em mãos um conjunto de dados de anúncios da WebMotors, o qual começaremos chamando de `df`. De início, vamos fazer uma limpeza dos dados, para depois analisar a relação entre a quantidade de `leads` e os demais dados, para depois propor estratégias para maximizar o número de `leads`.\n"
   ]
  },
  {
   "cell_type": "markdown",
   "metadata": {
    "id": "H5iXEM7JiFXf"
   },
   "source": [
    "Começamos importando bibliotecas relevantes para o caso, e usando `sns.set()` para estilizar os gráficos que virão a seguir."
   ]
  },
  {
   "cell_type": "code",
   "execution_count": 51,
   "metadata": {
    "id": "s-EUdpx6h9qE"
   },
   "outputs": [],
   "source": [
    "import pandas as pd\n",
    "import numpy as np\n",
    "import matplotlib.pyplot as plt\n",
    "import seaborn as sns\n",
    "import matplotlib.gridspec as gridspec\n",
    "\n",
    "from graphics.plot import dataplot\n",
    "\n",
    "from sklearn.linear_model import LogisticRegression\n",
    "from sklearn.model_selection import train_test_split\n",
    "from sklearn.metrics import roc_auc_score, roc_curve, classification_report, accuracy_score\n",
    "from sklearn.metrics import recall_score, precision_score, f1_score, confusion_matrix, auc\n",
    "\n",
    "\n",
    "\n",
    "\n",
    "sns.set()"
   ]
  },
  {
   "cell_type": "markdown",
   "metadata": {
    "id": "VeCcS1rLI1c0"
   },
   "source": [
    "## Funções a serem usadas"
   ]
  },
  {
   "cell_type": "markdown",
   "metadata": {
    "id": "R84pFpBRpaxY"
   },
   "source": [
    "Para ajudar a visualizar os dados, criamos a função `dataplot`, que recebe os seguinte parâmetros:\n",
    "\n",
    "- `colunax`: Coluna que define o eixo  das abscissas do gráfico;\n",
    "- `colunay`: Eixo das ordenadas;\n",
    "- `add`: figura adicional a ser plotada, para fins de comparação ou referência.\n",
    "- `linestyle1`: linestyle dos dados;\n",
    "- `linestyle2`: linestyle da figura adicional."
   ]
  },
  {
   "cell_type": "code",
   "execution_count": 2,
   "metadata": {
    "id": "Ig_mNzDIk5AU"
   },
   "outputs": [],
   "source": [
    "# def dataplot(dados,\n",
    "#              colunax,\n",
    "#              colunay,\n",
    "#              add=[],\n",
    "#              linestyle1 = 'none',\n",
    "#              linestyle2 = 'none'):\n",
    "\n",
    "#   df = dados.sort_values(colunax)\n",
    "\n",
    "#   #plota o gráfico\n",
    "#   fig = plt.figure(figsize=(9,9))\n",
    "\n",
    "#   if add != []:\n",
    "#     plt.plot(add[0], add[1], marker ='.', linestyle=linestyle2)\n",
    "\n",
    "#   plt.plot(df[colunax], df[colunay], marker ='.', linestyle=linestyle1)\n",
    "#   plt.xlabel(colunax)\n",
    "#   plt.ylabel(colunay)\n",
    "#   plt.grid(b=True, which='both')\n",
    "#   plt.show()\n"
   ]
  },
  {
   "cell_type": "markdown",
   "metadata": {
    "id": "WdVU7LeLJWVx"
   },
   "source": [
    "Se um dataframe possui muitas colunas, não conseguimos exibir todas de uma só vez para observação.\n",
    "\n",
    "Com isso em mente, aqui definimos a função `df_show()` que recebe um dataframe, e a cada vez que é executada, retorna colunas diferentes do mesmo dataframe. Seu intuíto é exibir colunas diferentes do dataframe seguindo ciclos."
   ]
  },
  {
   "cell_type": "code",
   "execution_count": 3,
   "metadata": {
    "id": "qyIINTceJjzx"
   },
   "outputs": [],
   "source": [
    "variavel_estatica=1\n",
    "\n",
    "def df_show(df):\n",
    "  global variavel_estatica\n",
    "  variavel_estatica += 10\n",
    "  a = variavel_estatica\n",
    "\n",
    "  if variavel_estatica >= len(df.T):\n",
    "    variavel_estatica = 1\n",
    "    a = len(df.T)\n",
    "\n",
    "  return df.iloc[:, a-11:a]\n"
   ]
  },
  {
   "cell_type": "markdown",
   "metadata": {
    "id": "6-yh4xnC8BVy"
   },
   "source": [
    "# Limpeza dos dados\n",
    "## Os Dados e Amostra:\n",
    "\n",
    "Chamamos de `df` os dados de anúncio, e de `dicio` o dicionário de nomes da tabela para consultas.\n",
    "\n",
    "Podemos ainda definir uma amostra aleatória (ou não) em `amostra` para observação, e usar a função `df_show()`, definida acima, para passar pelas diversas colunas da amostra."
   ]
  },
  {
   "cell_type": "code",
   "execution_count": 4,
   "metadata": {
    "id": "MakHVCVSicR6"
   },
   "outputs": [],
   "source": [
    "dicio = pd.read_csv('dados/dicio.csv')\n",
    "df    = pd.read_csv('dados/dados.csv')\n",
    "\n",
    "amostra = df.sample(6)"
   ]
  },
  {
   "cell_type": "code",
   "execution_count": 5,
   "metadata": {
    "colab": {
     "base_uri": "https://localhost:8080/",
     "height": 281
    },
    "id": "vWN895jCJ-_F",
    "outputId": "f3925211-d7de-4ea9-c205-a7e056344d88"
   },
   "outputs": [
    {
     "data": {
      "text/html": [
       "<div>\n",
       "<style scoped>\n",
       "    .dataframe tbody tr th:only-of-type {\n",
       "        vertical-align: middle;\n",
       "    }\n",
       "\n",
       "    .dataframe tbody tr th {\n",
       "        vertical-align: top;\n",
       "    }\n",
       "\n",
       "    .dataframe thead th {\n",
       "        text-align: right;\n",
       "    }\n",
       "</style>\n",
       "<table border=\"1\" class=\"dataframe\">\n",
       "  <thead>\n",
       "    <tr style=\"text-align: right;\">\n",
       "      <th></th>\n",
       "      <th>cod_anuncio</th>\n",
       "      <th>cod_cliente</th>\n",
       "      <th>cod_tipo_pessoa</th>\n",
       "      <th>prioridade</th>\n",
       "      <th>leads</th>\n",
       "      <th>views</th>\n",
       "      <th>cliques_telefone*</th>\n",
       "      <th>cod_marca_veiculo</th>\n",
       "      <th>cod_modelo_veiculo</th>\n",
       "      <th>cod_versao_veiculo</th>\n",
       "      <th>ano_modelo</th>\n",
       "    </tr>\n",
       "  </thead>\n",
       "  <tbody>\n",
       "    <tr>\n",
       "      <th>45495</th>\n",
       "      <td>34876</td>\n",
       "      <td>11118</td>\n",
       "      <td>2</td>\n",
       "      <td>3</td>\n",
       "      <td>12</td>\n",
       "      <td>48</td>\n",
       "      <td>5</td>\n",
       "      <td>16</td>\n",
       "      <td>1194</td>\n",
       "      <td>345351</td>\n",
       "      <td>2014</td>\n",
       "    </tr>\n",
       "    <tr>\n",
       "      <th>18196</th>\n",
       "      <td>100904</td>\n",
       "      <td>7300</td>\n",
       "      <td>2</td>\n",
       "      <td>3</td>\n",
       "      <td>1</td>\n",
       "      <td>204</td>\n",
       "      <td>5</td>\n",
       "      <td>4</td>\n",
       "      <td>740</td>\n",
       "      <td>343824</td>\n",
       "      <td>2014</td>\n",
       "    </tr>\n",
       "    <tr>\n",
       "      <th>29794</th>\n",
       "      <td>150531</td>\n",
       "      <td>6388</td>\n",
       "      <td>2</td>\n",
       "      <td>3</td>\n",
       "      <td>8</td>\n",
       "      <td>484</td>\n",
       "      <td>16</td>\n",
       "      <td>8</td>\n",
       "      <td>3297</td>\n",
       "      <td>347520</td>\n",
       "      <td>2018</td>\n",
       "    </tr>\n",
       "    <tr>\n",
       "      <th>10620</th>\n",
       "      <td>144449</td>\n",
       "      <td>8619</td>\n",
       "      <td>2</td>\n",
       "      <td>3</td>\n",
       "      <td>1</td>\n",
       "      <td>424</td>\n",
       "      <td>1</td>\n",
       "      <td>3</td>\n",
       "      <td>687</td>\n",
       "      <td>346703</td>\n",
       "      <td>2013</td>\n",
       "    </tr>\n",
       "    <tr>\n",
       "      <th>2290</th>\n",
       "      <td>9575</td>\n",
       "      <td>3669</td>\n",
       "      <td>2</td>\n",
       "      <td>3</td>\n",
       "      <td>16</td>\n",
       "      <td>8</td>\n",
       "      <td>5</td>\n",
       "      <td>10</td>\n",
       "      <td>3336</td>\n",
       "      <td>344514</td>\n",
       "      <td>2015</td>\n",
       "    </tr>\n",
       "    <tr>\n",
       "      <th>16081</th>\n",
       "      <td>111994</td>\n",
       "      <td>6732</td>\n",
       "      <td>2</td>\n",
       "      <td>3</td>\n",
       "      <td>1</td>\n",
       "      <td>244</td>\n",
       "      <td>5</td>\n",
       "      <td>2</td>\n",
       "      <td>1143</td>\n",
       "      <td>343629</td>\n",
       "      <td>2015</td>\n",
       "    </tr>\n",
       "  </tbody>\n",
       "</table>\n",
       "</div>"
      ],
      "text/plain": [
       "       cod_anuncio  cod_cliente  cod_tipo_pessoa  prioridade  leads  views  \\\n",
       "45495        34876        11118                2           3     12     48   \n",
       "18196       100904         7300                2           3      1    204   \n",
       "29794       150531         6388                2           3      8    484   \n",
       "10620       144449         8619                2           3      1    424   \n",
       "2290          9575         3669                2           3     16      8   \n",
       "16081       111994         6732                2           3      1    244   \n",
       "\n",
       "       cliques_telefone*  cod_marca_veiculo  cod_modelo_veiculo  \\\n",
       "45495                  5                 16                1194   \n",
       "18196                  5                  4                 740   \n",
       "29794                 16                  8                3297   \n",
       "10620                  1                  3                 687   \n",
       "2290                   5                 10                3336   \n",
       "16081                  5                  2                1143   \n",
       "\n",
       "       cod_versao_veiculo  ano_modelo  \n",
       "45495              345351        2014  \n",
       "18196              343824        2014  \n",
       "29794              347520        2018  \n",
       "10620              346703        2013  \n",
       "2290               344514        2015  \n",
       "16081              343629        2015  "
      ]
     },
     "execution_count": 5,
     "metadata": {},
     "output_type": "execute_result"
    }
   ],
   "source": [
    "#rode esta célula algumas vezes para ver as demais colunas de amostra\n",
    "df_show(amostra)"
   ]
  },
  {
   "cell_type": "markdown",
   "metadata": {
    "id": "4L3SsnHHRtpU"
   },
   "source": [
    "o Dicionário:"
   ]
  },
  {
   "cell_type": "code",
   "execution_count": 6,
   "metadata": {
    "colab": {
     "base_uri": "https://localhost:8080/",
     "height": 1000
    },
    "id": "qf0RN8n6ir-k",
    "outputId": "b30c92cf-d19b-442a-e136-0ab81e6c19ce"
   },
   "outputs": [
    {
     "data": {
      "text/html": [
       "<div>\n",
       "<style scoped>\n",
       "    .dataframe tbody tr th:only-of-type {\n",
       "        vertical-align: middle;\n",
       "    }\n",
       "\n",
       "    .dataframe tbody tr th {\n",
       "        vertical-align: top;\n",
       "    }\n",
       "\n",
       "    .dataframe thead th {\n",
       "        text-align: right;\n",
       "    }\n",
       "</style>\n",
       "<table border=\"1\" class=\"dataframe\">\n",
       "  <thead>\n",
       "    <tr style=\"text-align: right;\">\n",
       "      <th></th>\n",
       "      <th>attribute</th>\n",
       "      <th>description</th>\n",
       "    </tr>\n",
       "  </thead>\n",
       "  <tbody>\n",
       "    <tr>\n",
       "      <th>0</th>\n",
       "      <td>cod_anuncio</td>\n",
       "      <td>código do anúncio</td>\n",
       "    </tr>\n",
       "    <tr>\n",
       "      <th>1</th>\n",
       "      <td>cod_cliente</td>\n",
       "      <td>código do anunciante</td>\n",
       "    </tr>\n",
       "    <tr>\n",
       "      <th>2</th>\n",
       "      <td>cod_tipo_pessoa</td>\n",
       "      <td>tipo de anunciante: PF=1, PJ=2</td>\n",
       "    </tr>\n",
       "    <tr>\n",
       "      <th>3</th>\n",
       "      <td>prioridade</td>\n",
       "      <td>prioridade do anúncio (1=alta, 2-média, 3-baixa)</td>\n",
       "    </tr>\n",
       "    <tr>\n",
       "      <th>4</th>\n",
       "      <td>leads</td>\n",
       "      <td>tota de propostas recebidas</td>\n",
       "    </tr>\n",
       "    <tr>\n",
       "      <th>5</th>\n",
       "      <td>views</td>\n",
       "      <td>quantidade de visualizações no anúncio</td>\n",
       "    </tr>\n",
       "    <tr>\n",
       "      <th>6</th>\n",
       "      <td>cliques_telefone</td>\n",
       "      <td>quantidade de cliques no telefone anunciado</td>\n",
       "    </tr>\n",
       "    <tr>\n",
       "      <th>7</th>\n",
       "      <td>cod_marca_veiculo</td>\n",
       "      <td>código da marca do veículo</td>\n",
       "    </tr>\n",
       "    <tr>\n",
       "      <th>8</th>\n",
       "      <td>cod_modelo_veiculo</td>\n",
       "      <td>código do modelo veículo</td>\n",
       "    </tr>\n",
       "    <tr>\n",
       "      <th>9</th>\n",
       "      <td>cod_versao_veiculo</td>\n",
       "      <td>código da versão do veículo</td>\n",
       "    </tr>\n",
       "    <tr>\n",
       "      <th>10</th>\n",
       "      <td>ano_modelo</td>\n",
       "      <td>ano-modelo do veículo</td>\n",
       "    </tr>\n",
       "    <tr>\n",
       "      <th>11</th>\n",
       "      <td>cep_2dig</td>\n",
       "      <td>dois primeiros dígitos do cep do anunciante</td>\n",
       "    </tr>\n",
       "    <tr>\n",
       "      <th>12</th>\n",
       "      <td>uf_cidade</td>\n",
       "      <td>UF e cidade do anunciante</td>\n",
       "    </tr>\n",
       "    <tr>\n",
       "      <th>13</th>\n",
       "      <td>vlr_anuncio</td>\n",
       "      <td>valor do veículo no anúncio</td>\n",
       "    </tr>\n",
       "    <tr>\n",
       "      <th>14</th>\n",
       "      <td>qtd_fotos</td>\n",
       "      <td>quantidade de fotos no anúncio</td>\n",
       "    </tr>\n",
       "    <tr>\n",
       "      <th>15</th>\n",
       "      <td>km_veiculo</td>\n",
       "      <td>Kilometragem do veículo</td>\n",
       "    </tr>\n",
       "    <tr>\n",
       "      <th>16</th>\n",
       "      <td>vlr_mercado</td>\n",
       "      <td>valor de referência do veículo na praça</td>\n",
       "    </tr>\n",
       "    <tr>\n",
       "      <th>17</th>\n",
       "      <td>flg_unico_dono</td>\n",
       "      <td>indicador de único dono</td>\n",
       "    </tr>\n",
       "    <tr>\n",
       "      <th>18</th>\n",
       "      <td>flg_licenciado</td>\n",
       "      <td>indicador de licenciamento em dia</td>\n",
       "    </tr>\n",
       "    <tr>\n",
       "      <th>19</th>\n",
       "      <td>flg_ipva_pago</td>\n",
       "      <td>indicador de IPVA em dia</td>\n",
       "    </tr>\n",
       "    <tr>\n",
       "      <th>20</th>\n",
       "      <td>flg_todas_revisoes_concessionaria</td>\n",
       "      <td>indicador realização de todas as revisões na c...</td>\n",
       "    </tr>\n",
       "    <tr>\n",
       "      <th>21</th>\n",
       "      <td>flg_todas_revisoes_agenda_veiculo</td>\n",
       "      <td>indicador realização de todas as revisões prev...</td>\n",
       "    </tr>\n",
       "    <tr>\n",
       "      <th>22</th>\n",
       "      <td>flg_garantia_fabrica</td>\n",
       "      <td>indicador de veículo em garantia de fábrica</td>\n",
       "    </tr>\n",
       "    <tr>\n",
       "      <th>23</th>\n",
       "      <td>flg_blindado</td>\n",
       "      <td>indicador de blindagem</td>\n",
       "    </tr>\n",
       "    <tr>\n",
       "      <th>24</th>\n",
       "      <td>flg_aceita_troca</td>\n",
       "      <td>indicador de que o anunciante aceita troca</td>\n",
       "    </tr>\n",
       "    <tr>\n",
       "      <th>25</th>\n",
       "      <td>flg_adaptado_pcd</td>\n",
       "      <td>indicador de veículo adaptado para pessoa com ...</td>\n",
       "    </tr>\n",
       "    <tr>\n",
       "      <th>26</th>\n",
       "      <td>combustivel</td>\n",
       "      <td>especificação de combustível</td>\n",
       "    </tr>\n",
       "    <tr>\n",
       "      <th>27</th>\n",
       "      <td>cambio</td>\n",
       "      <td>especificação de câmbio</td>\n",
       "    </tr>\n",
       "    <tr>\n",
       "      <th>28</th>\n",
       "      <td>portas</td>\n",
       "      <td>número de portas</td>\n",
       "    </tr>\n",
       "    <tr>\n",
       "      <th>29</th>\n",
       "      <td>alarme</td>\n",
       "      <td>presença de alarme</td>\n",
       "    </tr>\n",
       "    <tr>\n",
       "      <th>30</th>\n",
       "      <td>airbag</td>\n",
       "      <td>presença de airbag</td>\n",
       "    </tr>\n",
       "    <tr>\n",
       "      <th>31</th>\n",
       "      <td>arquente</td>\n",
       "      <td>presença de ar quente</td>\n",
       "    </tr>\n",
       "    <tr>\n",
       "      <th>32</th>\n",
       "      <td>bancocouro</td>\n",
       "      <td>presença de banco de couro</td>\n",
       "    </tr>\n",
       "    <tr>\n",
       "      <th>33</th>\n",
       "      <td>arcondic</td>\n",
       "      <td>presença de ar condicionado</td>\n",
       "    </tr>\n",
       "    <tr>\n",
       "      <th>34</th>\n",
       "      <td>abs</td>\n",
       "      <td>presença de freio abs</td>\n",
       "    </tr>\n",
       "    <tr>\n",
       "      <th>35</th>\n",
       "      <td>desembtras</td>\n",
       "      <td>presença de desembaçador traseiro</td>\n",
       "    </tr>\n",
       "    <tr>\n",
       "      <th>36</th>\n",
       "      <td>travaeletr</td>\n",
       "      <td>presença de travas elétricas</td>\n",
       "    </tr>\n",
       "    <tr>\n",
       "      <th>37</th>\n",
       "      <td>vidroseletr</td>\n",
       "      <td>presença de vidros elétricos</td>\n",
       "    </tr>\n",
       "    <tr>\n",
       "      <th>38</th>\n",
       "      <td>rodasliga</td>\n",
       "      <td>presença de rodas de liga-leve</td>\n",
       "    </tr>\n",
       "    <tr>\n",
       "      <th>39</th>\n",
       "      <td>sensorchuva</td>\n",
       "      <td>presença de sensor de chuva</td>\n",
       "    </tr>\n",
       "    <tr>\n",
       "      <th>40</th>\n",
       "      <td>sensorestacion</td>\n",
       "      <td>presença de sensor de estacionamento</td>\n",
       "    </tr>\n",
       "  </tbody>\n",
       "</table>\n",
       "</div>"
      ],
      "text/plain": [
       "                            attribute  \\\n",
       "0                         cod_anuncio   \n",
       "1                         cod_cliente   \n",
       "2                     cod_tipo_pessoa   \n",
       "3                          prioridade   \n",
       "4                               leads   \n",
       "5                               views   \n",
       "6                    cliques_telefone   \n",
       "7                   cod_marca_veiculo   \n",
       "8                  cod_modelo_veiculo   \n",
       "9                  cod_versao_veiculo   \n",
       "10                         ano_modelo   \n",
       "11                           cep_2dig   \n",
       "12                          uf_cidade   \n",
       "13                        vlr_anuncio   \n",
       "14                          qtd_fotos   \n",
       "15                         km_veiculo   \n",
       "16                        vlr_mercado   \n",
       "17                     flg_unico_dono   \n",
       "18                     flg_licenciado   \n",
       "19                      flg_ipva_pago   \n",
       "20  flg_todas_revisoes_concessionaria   \n",
       "21  flg_todas_revisoes_agenda_veiculo   \n",
       "22               flg_garantia_fabrica   \n",
       "23                       flg_blindado   \n",
       "24                   flg_aceita_troca   \n",
       "25                   flg_adaptado_pcd   \n",
       "26                        combustivel   \n",
       "27                             cambio   \n",
       "28                             portas   \n",
       "29                             alarme   \n",
       "30                             airbag   \n",
       "31                           arquente   \n",
       "32                         bancocouro   \n",
       "33                           arcondic   \n",
       "34                                abs   \n",
       "35                         desembtras   \n",
       "36                         travaeletr   \n",
       "37                        vidroseletr   \n",
       "38                          rodasliga   \n",
       "39                        sensorchuva   \n",
       "40                     sensorestacion   \n",
       "\n",
       "                                          description  \n",
       "0                                   código do anúncio  \n",
       "1                                código do anunciante  \n",
       "2                      tipo de anunciante: PF=1, PJ=2  \n",
       "3    prioridade do anúncio (1=alta, 2-média, 3-baixa)  \n",
       "4                         tota de propostas recebidas  \n",
       "5              quantidade de visualizações no anúncio  \n",
       "6         quantidade de cliques no telefone anunciado  \n",
       "7                          código da marca do veículo  \n",
       "8                            código do modelo veículo  \n",
       "9                         código da versão do veículo  \n",
       "10                              ano-modelo do veículo  \n",
       "11        dois primeiros dígitos do cep do anunciante  \n",
       "12                          UF e cidade do anunciante  \n",
       "13                        valor do veículo no anúncio  \n",
       "14                     quantidade de fotos no anúncio  \n",
       "15                            Kilometragem do veículo  \n",
       "16            valor de referência do veículo na praça  \n",
       "17                            indicador de único dono  \n",
       "18                  indicador de licenciamento em dia  \n",
       "19                           indicador de IPVA em dia  \n",
       "20  indicador realização de todas as revisões na c...  \n",
       "21  indicador realização de todas as revisões prev...  \n",
       "22        indicador de veículo em garantia de fábrica  \n",
       "23                             indicador de blindagem  \n",
       "24         indicador de que o anunciante aceita troca  \n",
       "25  indicador de veículo adaptado para pessoa com ...  \n",
       "26                       especificação de combustível  \n",
       "27                            especificação de câmbio  \n",
       "28                                   número de portas  \n",
       "29                                 presença de alarme  \n",
       "30                                 presença de airbag  \n",
       "31                              presença de ar quente  \n",
       "32                         presença de banco de couro  \n",
       "33                        presença de ar condicionado  \n",
       "34                              presença de freio abs  \n",
       "35                  presença de desembaçador traseiro  \n",
       "36                       presença de travas elétricas  \n",
       "37                       presença de vidros elétricos  \n",
       "38                     presença de rodas de liga-leve  \n",
       "39                        presença de sensor de chuva  \n",
       "40               presença de sensor de estacionamento  "
      ]
     },
     "execution_count": 6,
     "metadata": {},
     "output_type": "execute_result"
    }
   ],
   "source": [
    "dicio"
   ]
  },
  {
   "cell_type": "markdown",
   "metadata": {
    "id": "o9KqV7xkT6Oc"
   },
   "source": [
    "Abaixo, podemos checar todos os valores distintos para uma coluna que queiramos investigar"
   ]
  },
  {
   "cell_type": "code",
   "execution_count": 7,
   "metadata": {
    "colab": {
     "base_uri": "https://localhost:8080/"
    },
    "id": "jhgFHVZMTq32",
    "outputId": "9605ddbe-70a9-4a6f-a267-fd3b38f12b80"
   },
   "outputs": [
    {
     "data": {
      "text/plain": [
       "array(['GO_Itumbiara', 'SP_Osasco', 'SP_SÃ£o Paulo', 'RS_Porto Alegre',\n",
       "       'SP_SÃ£o JosÃ© dos Campos', 'SP_Santo AndrÃ©', 'SP_JundiaÃ\\xad',\n",
       "       'SP_IperÃ³', 'SP_RibeirÃ£o Preto', 'SP_Leme', 'SP_GuarujÃ¡',\n",
       "       'MG_Uberaba', 'SP_PoÃ¡', 'DF_BrasÃ\\xadlia',\n",
       "       'SP_SÃ£o Bernardo do Campo', 'RJ_Volta Redonda',\n",
       "       'RJ_Rio de Janeiro', 'MG_Belo Horizonte', 'GO_Caldas Novas',\n",
       "       'SP_Santana de ParnaÃ\\xadba', 'SP_Guarulhos', 'SP_Campinas',\n",
       "       'SP_SÃ£o Caetano do Sul', 'SP_Piedade', 'RJ_Miguel Pereira',\n",
       "       'PI_Teresina', 'MG_DivinÃ³polis', 'PA_SantarÃ©m', 'PR_Curitiba',\n",
       "       'SC_Major Vieira', 'RS_Rio Grande', 'RS_ViamÃ£o', 'SP_Santos',\n",
       "       'MG_Barbacena', 'PR_Umuarama', 'SP_TaubatÃ©', 'RN_Natal',\n",
       "       'ES_VitÃ³ria', 'SC_CaÃ§ador', 'SC_ChapecÃ³',\n",
       "       'SP_SÃ£o JosÃ© do Rio Preto', 'SP_Barretos', 'SP_Atibaia',\n",
       "       'RJ_PetrÃ³polis', 'SP_AraÃ§atuba', 'RS_SÃ£o Leopoldo', 'PE_Recife',\n",
       "       'RS_Novo Hamburgo', 'SP_Dracena', 'SP_PaulÃ\\xadnia', 'SP_CubatÃ£o',\n",
       "       'SP_Ituverava', 'SC_Presidente GetÃºlio', 'SP_Barueri',\n",
       "       'BA_Salvador', 'MT_Sorriso', 'SP_Praia Grande', 'BA_CamaÃ§ari',\n",
       "       'ES_SÃ£o Mateus', 'SP_Cotia', 'SP_Presidente Prudente',\n",
       "       'RJ_NiterÃ³i', 'MG_Camanducaia', 'SP_Capivari',\n",
       "       'SP_SÃ£o JoÃ£o da Boa Vista', 'SC_FlorianÃ³polis', 'SC_Fraiburgo',\n",
       "       'SC_ItajaÃ\\xad', 'SP_Mogi das Cruzes', 'MA_SÃ£o LuÃ\\xads',\n",
       "       'MG_UberlÃ¢ndia', 'CE_Fortaleza', 'PR_Londrina', 'SP_Catanduva',\n",
       "       'SC_Garuva', 'SP_JaguariÃºna', 'SC_Joinville', 'SP_Itatiba',\n",
       "       'SP_Itu', 'MG_Juiz de Fora', 'MG_Nova Lima', 'PR_Pato Branco',\n",
       "       'SP_Limeira', 'SP_Valinhos', 'SC_Blumenau', 'RS_Caxias do Sul',\n",
       "       'RJ_SÃ£o GonÃ§alo', 'SP_Suzano', 'RJ_Nova Friburgo', 'SP_ArujÃ¡',\n",
       "       'MS_Dourados', 'SP_Pirassununga', 'SP_SÃ£o Roque', 'PR_Cascavel',\n",
       "       'PR_Ponta Grossa', 'SP_ParaguaÃ§u Paulista', 'SC_Rio do Sul',\n",
       "       'SP_Piracicaba', 'SC_BalneÃ¡rio CamboriÃº', 'SC_TaiÃ³',\n",
       "       'SP_Embu das Artes', 'SP_Vinhedo', 'MG_Extrema',\n",
       "       'SP_Ã\\x81guas de LindÃ³ia', 'SP_Botucatu', 'SP_Caieiras',\n",
       "       'SP_PenÃ¡polis', 'SP_RibeirÃ£o Bonito', 'SP_Cravinhos',\n",
       "       'SP_SÃ£o Carlos', 'RJ_Duque de Caxias', 'SP_JacareÃ\\xad',\n",
       "       'SP_SÃ£o JosÃ© do Rio Pardo', 'SP_Amparo', 'RJ_Cabo Frio',\n",
       "       'PR_SÃ£o JosÃ© dos Pinhais', 'SP_MarÃ\\xadlia', 'MT_VÃ¡rzea Grande',\n",
       "       'RJ_SÃ£o JoÃ£o de Meriti', 'MS_Nova Andradina', 'GO_GoiÃ¢nia',\n",
       "       'SP_OlÃ\\xadmpia', 'RS_Cachoeirinha', 'RS_Esteio', 'SP_Diadema',\n",
       "       'SP_MauÃ¡', 'SP_Itupeva', 'PI_Picos', 'MS_TrÃªs Lagoas',\n",
       "       'MT_Primavera do Leste', 'RS_Alvorada', 'RS_VeranÃ³polis',\n",
       "       'RS_Lagoa Vermelha', 'SP_TaboÃ£o da Serra', 'MG_Contagem',\n",
       "       'SP_BÃ¡lsamo', 'RJ_ItaguaÃ\\xad', 'SC_MaracajÃ¡', 'SC_SÃ£o JosÃ©',\n",
       "       'SP_Louveira', 'SP_Sorocaba', 'SP_Araraquara', 'SC_Guabiruba',\n",
       "       'SC_Curitibanos', 'SP_Taquaritinga', 'PR_Rio Branco do Sul',\n",
       "       'PA_BelÃ©m', 'PB_JoÃ£o Pessoa', 'PE_Santo Agostinho',\n",
       "       'SP_Adamantina', 'MS_Campo Grande', 'ES_Vila Velha',\n",
       "       'SP_Cerqueira CÃ©sar', 'AL_MaceiÃ³', 'SC_CriciÃºma',\n",
       "       'MG_TrÃªs Marias', 'SP_GuaratinguetÃ¡', 'MG_Betim',\n",
       "       'MG_Diamantina', 'RS_GravataÃ\\xad', 'MG_AraxÃ¡', 'RS_CanguÃ§u',\n",
       "       'PR_ParanavaÃ\\xad', 'SE_Aracaju', 'SC_Brusque',\n",
       "       'GO_ValparaÃ\\xadso de GoiÃ¡s', 'MG_Varginha', 'PR_Toledo',\n",
       "       'AC_Rio Branco', 'SP_BoracÃ©ia', 'MG_AraÃ§uaÃ\\xad',\n",
       "       'SP_AraÃ§ariguama', 'BA_Jaguaquara', 'RO_Cacoal',\n",
       "       'PE_JaboatÃ£o dos Guararapes', 'MG_PoÃ§os de Caldas', 'SP_Bauru',\n",
       "       'PR_Castro', 'MG_Montes Claros', 'BA_LuÃ\\xads Eduardo MagalhÃ£es',\n",
       "       'SC_JoaÃ§aba', 'SP_Boituva', 'SP_Birigui', 'RS_Sapucaia do Sul',\n",
       "       'SP_Itapetininga', 'MG_Patos de Minas', 'MG_Lagoa da Prata',\n",
       "       'DF_Gama', 'MS_SÃ£o Gabriel do Oeste', 'PR_Rio Negro',\n",
       "       'MG_Monte SiÃ£o', 'PR_Sarandi', 'PR_SÃ£o Mateus do Sul',\n",
       "       'SP_Franca', 'SP_BraganÃ§a Paulista', 'PE_Carpina',\n",
       "       'RS_Passo Fundo', 'SP_Bertioga', 'CE_Iguatu', 'SP_Indaiatuba',\n",
       "       'SP_Cajati', 'MG_UnaÃ\\xad', 'PE_Petrolina', 'PR_MaringÃ¡',\n",
       "       'SC_Ituporanga', 'SP_EspÃ\\xadrito Santo do Pinhal',\n",
       "       'SC_ItaiÃ³polis', 'PB_Campina Grande', 'SP_SumarÃ©', 'RN_CaicÃ³',\n",
       "       'BA_VitÃ³ria da Conquista', 'SP_Jales', 'RO_Porto Velho',\n",
       "       'MG_Brumadinho', 'RJ_TeresÃ³polis', 'PR_Campo Largo',\n",
       "       'SP_Ilhabela', 'SP_Ferraz de Vasconcelos', 'SP_Rio Claro',\n",
       "       'PR_AndirÃ¡', 'SP_Santa FÃ© do Sul', 'SP_Itapevi',\n",
       "       'SP_CarapicuÃ\\xadba', 'RJ_Mesquita', 'MG_SÃ£o JoÃ£o Del Rei',\n",
       "       'SP_IbiÃºna', 'RJ_ParaÃ\\xadba do Sul', 'SC_PalhoÃ§a',\n",
       "       'SP_SÃ£o Vicente', 'PR_Guarapuava', 'SC_Itapema', 'SC_Indaial',\n",
       "       'SP_JaÃº', 'SP_Americana', 'SC_TubarÃ£o', 'SC_TimbÃ³',\n",
       "       'SP_AmÃ©rico Brasiliense', 'MG_UbÃ¡', 'RS_Lajeado',\n",
       "       'RS_Santa Maria', 'AM_Manaus', 'SP_Ourinhos',\n",
       "       'SP_Ã\\x81lvares Machado', 'RN_MossorÃ³', 'RS_SÃ£o Gabriel',\n",
       "       'PE_Arcoverde', 'PR_Marechal CÃ¢ndido Rondon', 'MA_AÃ§ailÃ¢ndia',\n",
       "       'SP_Santo Expedito', 'RS_Canoas', 'SC_AraranguÃ¡', 'PR_Cianorte',\n",
       "       'SC_SÃ£o Bento do Sul', 'SC_XanxerÃª', 'BA_Itabuna', 'RJ_MacaÃ©',\n",
       "       'SP_RibeirÃ£o Pires', 'RS_CandelÃ¡ria', 'GO_Mineiros',\n",
       "       'PR_Apucarana', 'PR_Almirante TamandarÃ©', 'GO_JataÃ\\xad',\n",
       "       'GO_AnÃ¡polis', 'PR_Francisco BeltrÃ£o', 'SP_Lins', 'MG_Passos',\n",
       "       'SP_Vargem Grande Paulista', 'MG_Andradas', 'SC_Canoinhas',\n",
       "       'MT_CuiabÃ¡', 'PB_Cabedelo', 'SP_Jandira', 'SP_MairiporÃ£',\n",
       "       'RS_ParobÃ©', 'MG_Pouso Alegre', 'SC_Araquari', 'SP_Mogi GuaÃ§u',\n",
       "       'MG_Governador Valadares', 'RS_Encantado', 'CE_Morada Nova',\n",
       "       'RS_Uruguaiana', 'MT_Araputanga', 'GO_CatalÃ£o',\n",
       "       'PR_Fazenda Rio Grande', 'PR_SÃ£o JoÃ£o do Triunfo',\n",
       "       'SC_JaraguÃ¡ do Sul', 'SC_Pomerode', 'SP_MatÃ£o',\n",
       "       'RS_Carlos Barbosa', 'RO_Rolim de Moura', 'BA_Feira de Santana',\n",
       "       'ES_Linhares', 'SP_Colina', 'RS_PortÃ£o', 'SP_VÃ¡rzea Paulista',\n",
       "       'MG_Ipatinga', 'PR_CornÃ©lio ProcÃ³pio', 'SC_Meleiro', 'SC_Xaxim',\n",
       "       'SP_Mogi Mirim', 'CE_MaracanaÃº', 'RS_Santa Cruz do Sul',\n",
       "       'SP_Votuporanga', 'PA_MarabÃ¡', 'RS_Carazinho', 'RO_Vilhena',\n",
       "       'SP_Votorantim', 'SC_CorupÃ¡', 'BA_Santo AntÃ´nio de Jesus',\n",
       "       'SP_Andradina', 'BA_Barreiras', 'SC_IÃ§ara', 'SP_Mirassol',\n",
       "       'SP_HortolÃ¢ndia', 'MT_Lucas do Rio Verde', 'RS_OsÃ³rio',\n",
       "       'GO_Aparecida de GoiÃ¢nia', 'SC_Gaspar', 'MG_Botelhos',\n",
       "       'SP_AvarÃ©', 'SC_Rio Negrinho', 'SP_Franco da Rocha',\n",
       "       'SC_BraÃ§o do Norte', 'BA_Porto Seguro', 'CE_Sobral',\n",
       "       'PR_Chopinzinho', 'RJ_ValenÃ§a', 'PR_Dois Vizinhos',\n",
       "       'PR_AraucÃ¡ria', 'RJ_Araruama', 'PR_Medianeira',\n",
       "       'SP_MartinÃ³polis', 'SP_Artur Nogueira', 'SC_Turvo', 'SP_Araras',\n",
       "       'SP_Campo Limpo Paulista', 'SC_Tijucas', 'PR_TelÃªmaco Borba',\n",
       "       'PE_Afogados da Ingazeira', 'SC_Mafra', 'RJ_Barra Mansa',\n",
       "       'GO_Inhumas', 'SP_Rio Grande da Serra', 'SP_Itapira',\n",
       "       'PR_Terra Rica', 'MG_ViÃ§osa', 'ES_Serra', 'ES_Colatina',\n",
       "       'RS_Sapiranga', 'PR_RibeirÃ£o do Pinhal', 'RJ_TrÃªs Rios',\n",
       "       'RS_Dois IrmÃ£os', 'RS_Canela', 'PR_Sapopema', 'RS_Pelotas',\n",
       "       'RJ_ArmaÃ§Ã£o dos BÃºzios', 'SC_Lages', \"SC_Herval D'Oeste\",\n",
       "       'MG_PatrocÃ\\xadnio', 'RS_Bento GonÃ§alves', 'RS_Montenegro',\n",
       "       'RS_Igrejinha', 'MT_RondonÃ³polis', 'SP_Pedreira', 'RJ_Rio Bonito',\n",
       "       'SC_Guaramirim', 'SP_JosÃ© BonifÃ¡cio', 'RS_TeutÃ´nia',\n",
       "       'RS_Morro Redondo', 'SP_PeruÃ\\xadbe', 'BA_Paulo Afonso',\n",
       "       'RS_Farroupilha', 'PR_Arapongas', 'SP_FernandÃ³polis',\n",
       "       'RR_Boa Vista', 'SP_Presidente EpitÃ¡cio', 'SP_Monte Alto',\n",
       "       'PR_ParanaguÃ¡', 'PE_Caruaru', 'MG_Formiga', 'SP_Salto',\n",
       "       'SP_LenÃ§Ã³is Paulista', 'RN_Parnamirim', 'SP_Caraguatatuba',\n",
       "       'MG_Alfenas', 'PE_Araripina', 'RJ_Rio das Ostras', 'GO_Posse',\n",
       "       'BA_EunÃ¡polis', 'ES_Guarapari', 'MG_Vazante', 'PA_Castanhal',\n",
       "       'MG_Piumhi', 'MG_Bom Despacho', 'PI_ParnaÃ\\xadba',\n",
       "       'SP_Pindamonhangaba', 'PR_UniÃ£o da VitÃ³ria', 'SC_Laurentino',\n",
       "       'PE_Olinda', 'MT_Sinop', 'MS_ParanaÃ\\xadba',\n",
       "       'RS_SÃ£o SebastiÃ£o do CaÃ\\xad', 'PR_Realeza', 'MG_Cataguases',\n",
       "       'MG_ItajubÃ¡', 'ES_Cachoeiro de Itapemirim', 'PE_Garanhuns',\n",
       "       'RS_Bom PrincÃ\\xadpio', 'RJ_Vassouras', 'PR_SÃ£o JoÃ£o',\n",
       "       'SP_Barra Bonita', 'MG_Coromandel', 'SP_Auriflama', 'GO_Rio Verde',\n",
       "       'MS_Rio Brilhante', 'MG_Conselheiro Lafaiete', 'BA_JequiÃ©',\n",
       "       'RJ_Resende', 'SP_Pereira Barreto', 'PA_BraganÃ§a',\n",
       "       'RJ_Nova IguaÃ§u', 'SP_Pilar do Sul', 'PE_Salgueiro', 'SP_Lorena',\n",
       "       'PR_Santa Terezinha de Itaipu', 'MG_Nova Serrana', 'SP_Itapeva',\n",
       "       'SC_Capinzal', 'GO_QuirinÃ³polis', 'SP_Pederneiras',\n",
       "       'MG_Borda da Mata', 'SC_Alfredo Wagner',\n",
       "       \"SP_Santa BÃ¡rbara D'Oeste\", 'SP_Bebedouro', 'RS_Campo Bom',\n",
       "       'PB_Bayeux', 'PR_CambÃ©', 'MG_Sete Lagoas',\n",
       "       'PR_Campina Grande do Sul', 'PA_Ananindeua', 'PR_Pinhais',\n",
       "       'PE_Toritama', 'SC_Rio dos Cedros', 'PI_Cocal',\n",
       "       'SP_Porto Ferreira', 'SP_Cruzeiro', 'RS_CamaquÃ£', 'SP_Batatais',\n",
       "       'SP_SÃ£o Joaquim da Barra', 'SP_ItÃ¡polis',\n",
       "       'SP_Presidente Venceslau', 'MG_TrÃªs CoraÃ§Ãµes',\n",
       "       'SC_SÃ£o JoÃ£o Batista', 'TO_Gurupi', 'RS_Cruz Alta', 'MG_Barroso',\n",
       "       'PE_Cabo de Santo Agostinho', 'SP_JoanÃ³polis', 'MG_ManhuaÃ§u',\n",
       "       'RS_Espumoso', 'BA_Lauro de Freitas', 'RS_Porto MauÃ¡',\n",
       "       'SC_Garopaba', 'SC_BalneÃ¡rio PiÃ§arras', 'SC_Catanduvas',\n",
       "       'SP_Neves Paulista', 'ES_Castelo', 'MG_Curvelo', 'SC_CamboriÃº',\n",
       "       'RJ_ItaboraÃ\\xad', 'RS_Gramado', 'SP_TatuÃ\\xad', 'PR_Palotina',\n",
       "       'RS_Tapejara', 'SC_Sombrio', 'SP_PompÃ©ia', 'PR_Jacarezinho',\n",
       "       'SC_Navegantes', 'PR_Siqueira Campos', 'PR_Foz do IguaÃ§u',\n",
       "       'GO_Trindade', 'SC_Salete', 'PR_Palmas', 'BA_Valente',\n",
       "       'MA_Imperatriz', 'SC_SÃ£o Ludgero', 'MG_ParÃ¡ de Minas',\n",
       "       'RJ_SÃ£o Pedro da Aldeia', 'SP_Elias Fausto',\n",
       "       'RJ_Barra do PiraÃ\\xad', 'SC_Cocal do Sul', 'SP_GarÃ§a',\n",
       "       'SP_Assis', 'SC_Porto Belo', 'RS_GuaÃ\\xadba', 'PB_Patos',\n",
       "       'SP_Itapecerica da Serra', 'MG_Paracatu', 'RS_EstÃ¢ncia Velha',\n",
       "       'RJ_Mendes', 'CE_IcÃ³', 'PR_Irati', 'SC_Maravilha', 'PR_Colombo',\n",
       "       'GO_Formosa', 'SP_ItanhaÃ©m', 'RS_Erechim', 'BA_Juazeiro',\n",
       "       'SP_SertÃ£ozinho', 'RJ_Paty do Alferes', 'SP_Monte AprazÃ\\xadvel',\n",
       "       'TO_AraguaÃ\\xadna', 'SP_CapÃ£o Bonito', 'SP_CabreÃºva',\n",
       "       'RS_Nova PetrÃ³polis', 'RO_Ji-ParanÃ¡', 'SC_Orleans', 'RS_BagÃ©',\n",
       "       'PR_Santo AntÃ´nio da Platina', 'BA_Alagoinhas', 'SP_Itaporanga',\n",
       "       'SC_Imbituba', 'SP_Campos do JordÃ£o', 'AP_MacapÃ¡',\n",
       "       'SP_CosmÃ³polis', 'RS_Cachoeira do Sul', 'SC_Videira',\n",
       "       'SC_ApiÃºna', 'SP_Santa Cruz do Rio Pardo', 'SP_Jaboticabal',\n",
       "       'SP_Panorama', 'RJ_Itaperuna', 'RJ_Campos dos Goytacazes',\n",
       "       'SP_Porto Feliz', 'RS_Garibaldi', 'MG_Leopoldina',\n",
       "       'SP_AlumÃ\\xadnio', 'PR_Colorado', 'RS_Vacaria', 'SP_Nhandeara',\n",
       "       'RS_ButiÃ¡', 'MG_MuriaÃ©', 'SP_Mairinque', 'RJ_MaricÃ¡',\n",
       "       'RJ_Guapimirim', 'MG_Pedro Leopoldo', 'SC_Ã\\x81gua Doce',\n",
       "       'SE_Itabaiana', 'SP_Serra Negra', 'SC_SÃ£o Miguel do Oeste',\n",
       "       'PE_VitÃ³ria de Santo AntÃ£o', 'PA_Parauapebas', 'BA_IlhÃ©us',\n",
       "       'RS_Santo Ã‚ngelo', 'PR_Campo MourÃ£o', 'SP_CaÃ§apava',\n",
       "       'SC_Itapiranga', 'SP_Saltinho', 'SP_TupÃ£', 'SP_Bady Bassitt',\n",
       "       'SP_Rancharia', 'MG_Araguari', 'MT_CÃ¡ceres', 'SP_Mococa',\n",
       "       'SC_Pinhalzinho', 'PR_MauÃ¡ da Serra', 'SP_Registro',\n",
       "       'PR_RolÃ¢ndia', 'RS_IjuÃ\\xad', 'MG_Jacutinga',\n",
       "       'MG_Cachoeira do Campo', 'CE_Caucaia', 'SC_Barra Velha',\n",
       "       'SP_Conchal', 'SC_Canelinha', 'GO_Goiatuba', 'MG_GuaxupÃ©',\n",
       "       'SP_Regente FeijÃ³', 'MG_Santa Rita do SapucaÃ\\xad',\n",
       "       'SP_Monte Azul Paulista', 'SP_Valentim Gentil',\n",
       "       'RJ_Casimiro de Abreu', 'PR_AmpÃ©re', 'SC_ConcÃ³rdia',\n",
       "       'MG_Iturama', 'PR_Guaraci', 'SP_Piraju', 'PR_Bandeirantes',\n",
       "       'SP_Ibitinga', 'PE_SanharÃ³', 'PR_Agudos do Sul', 'MS_Jardim',\n",
       "       'SC_BiguaÃ§u', 'RS_Ivoti', 'MG_Mariana', 'PI_Ã\\x81gua Branca',\n",
       "       'MG_ConceiÃ§Ã£o dos Ouros', 'PR_IbiporÃ£', 'PE_GravatÃ¡',\n",
       "       'SC_Gravatal', 'RS_Feliz', 'MG_IgarapÃ©',\n",
       "       'SP_Santa Rita do Passa Quatro', 'RJ_Cachoeiras de Macacu',\n",
       "       'SP_Itajobi', 'RS_Torres', 'MG_Papagaios', 'RN_Currais Novos',\n",
       "       'SC_Penha', 'PB_Cajazeiras', 'SC_Forquilhinha', 'SP_Ubatuba',\n",
       "       'MG_Caratinga', 'MT_Barra do GarÃ§as', 'MG_JoÃ£o Monlevade',\n",
       "       'MG_Ponte Nova', 'RN_SÃ£o JosÃ© de Mipibu', 'SP_Nova Odessa',\n",
       "       'MG_Frutal', 'MG_Taiobeiras', 'RS_SÃ£o Francisco de Paula',\n",
       "       'PR_Piraquara', 'SP_ItararÃ©', 'SP_Novo Horizonte',\n",
       "       'MG_TeÃ³filo Otoni', 'SP_Angatuba', 'GO_Campinorte',\n",
       "       'SP_Salto de Pirapora', 'BA_Brumado', 'PR_Jandaia do Sul',\n",
       "       'CE_TianguÃ¡', 'SP_SÃ£o Pedro', 'PR_Lapa', 'SP_Serrana',\n",
       "       'RS_Casca', 'PR_IvaiporÃ£', 'PA_TucuruÃ\\xad',\n",
       "       'SP_Cachoeira Paulista', 'SP_JacarÃ©', 'SP_OrlÃ¢ndia',\n",
       "       'RJ_Angra dos Reis', 'SC_JosÃ© Boiteux', 'MG_Prata',\n",
       "       'GO_NiquelÃ¢ndia', 'SC_Laguna', 'MG_TimÃ³teo',\n",
       "       'PR_Assis Chateaubriand', 'CE_Varjota', 'SP_Taquarituba',\n",
       "       'MG_CambuÃ\\xad', 'AL_Rio Largo', 'SP_Palestina', 'PE_TimbaÃºba',\n",
       "       'MG_ItaÃºna', 'RJ_MagÃ©', 'RS_ArambarÃ©',\n",
       "       'GO_Santa Helena de GoiÃ¡s', 'MG_CarandaÃ\\xad', 'RJ_Queimados',\n",
       "       'SC_Benedito Novo', 'SP_Santa Gertrudes', 'SP_Socorro',\n",
       "       'CE_Aquiraz', 'SC_Ibirama', 'SP_AraÃ§oiaba da Serra',\n",
       "       'CE_EusÃ©bio', 'SP_Itaquaquecetuba', 'BA_CaetitÃ©',\n",
       "       'SP_Potirendaba', 'RS_Santiago', 'SC_Paulo Lopes',\n",
       "       'PR_Santo AntÃ´nio do Sudoeste', 'SC_Jaguaruna', 'GO_EdÃ©ia',\n",
       "       'MG_Itabirito', 'MG_SapucaÃ\\xad-Mirim', 'RS_Panambi',\n",
       "       'MS_Nova Alvorada do Sul', 'GO_Ceres', 'SC_Treze TÃ\\xadlias',\n",
       "       \"SP_Estrela D'Oeste\", 'SP_Brotas', 'RS_Sobradinho',\n",
       "       'SC_Porto UniÃ£o', 'SC_Nova Veneza', 'MG_JoÃ£o Pinheiro',\n",
       "       'SP_Ilha Solteira', 'MG_SÃ£o LourenÃ§o', 'SP_Dois CÃ³rregos',\n",
       "       'MG_Mantena', 'SC_Campo ErÃª', 'CE_Itapipoca', 'PE_Belo Jardim',\n",
       "       'SP_Pirapozinho', 'PE_Santa Cruz do Capibaribe', 'BA_Serrinha',\n",
       "       'CE_SÃ£o Benedito', 'MG_Oliveira', 'SC_Ã\\x81guas Mornas',\n",
       "       'MG_Monte Carmelo', 'SC_Campos Novos', 'CE_Umari', 'PE_Bezerros',\n",
       "       'SC_Morro da FumaÃ§a', 'CE_Cedro', 'SP_Cedral', 'GO_Porangatu',\n",
       "       'BA_Ubaitaba', 'SP_Guararema', 'PR_Santa Helena',\n",
       "       'RS_Palmeira das MissÃµes', 'RS_Vera Cruz', 'RS_VenÃ¢ncio Aires',\n",
       "       'CE_Guaraciaba do Norte', 'SC_SÃ£o Joaquim', 'SC_AntÃ´nio Carlos',\n",
       "       'RS_JaguarÃ£o', 'SP_SÃ£o Manuel', 'RS_JÃºlio de Castilhos',\n",
       "       'N/A_NÃ£o se aplica', 'RS_SÃ£o Borja', 'MG_Campo Belo',\n",
       "       'SC_Pouso Redondo', 'SP_Nova Granada', 'RS_Alegrete',\n",
       "       'PA_JacundÃ¡', 'SC_Schroeder', 'PR_Nova EsperanÃ§a',\n",
       "       'PA_Paragominas', 'RS_TrÃªs Cachoeiras', 'MG_AbaetÃ©',\n",
       "       'SP_Vargem Grande do Sul', 'MG_Lavras', 'MG_Ituiutaba', 'RS_Marau',\n",
       "       'SP_TietÃª', 'SP_Bonfim Paulista', 'SP_Santo AntÃ´nio de Posse',\n",
       "       'PR_CafelÃ¢ndia', 'RS_Sananduva', 'SP_Biritiba-Mirim',\n",
       "       'SP_IracemÃ¡polis', 'PE_Ã\\x81guas Belas', 'RS_Arroio do Meio',\n",
       "       'SP_Tabatinga', 'PR_ItaperuÃ§u', 'RJ_Porto Real',\n",
       "       'SP_Laranjal Paulista', 'BA_IrecÃª', 'RS_Trindade do Sul',\n",
       "       'SC_Luiz Alves', 'SP_TabapuÃ£', 'RJ_Belford Roxo', 'MG_Juatuba',\n",
       "       'MT_Araguaiana', 'MG_Coronel Fabriciano', 'SP_Novais',\n",
       "       'RS_Charqueadas', 'MG_SÃ£o Gotardo', 'SP_Poloni', 'PR_Missal',\n",
       "       'SP_Pindorama', 'SC_Capivari de Baixo', 'PR_Peabiru', 'MA_GrajaÃº',\n",
       "       'RJ_SÃ£o FidÃ©lis', 'RJ_Miracema', 'SP_Viradouro', 'ES_Aracruz',\n",
       "       'SC_ImaruÃ\\xad', 'PA_Vila dos Cabanos', 'MT_Ã\\x81gua Boa',\n",
       "       'PR_BocaiÃºva do Sul', 'SC_Cunha PorÃ£', 'SP_Cajamar',\n",
       "       'PR_Capanema', 'SC_Nova Trento', 'RJ_Papucaia', 'MG_Itabira',\n",
       "       'RJ_Santo AntÃ´nio de PÃ¡dua', 'MS_NaviraÃ\\xad', 'PR_GoioerÃª',\n",
       "       'RJ_Saquarema', 'RS_Flores da Cunha', 'RJ_Quatis', 'PR_Palmeira',\n",
       "       'MG_Inhapim', 'MS_Aquidauana', 'ES_MarataÃ\\xadzes',\n",
       "       'TO_ParaÃ\\xadso do Tocantins', 'RS_CaÃ§apava do Sul',\n",
       "       'SP_GuapiaÃ§u', 'SP_Lagoinha', 'MT_Campo Verde', 'ES_Ecoporanga',\n",
       "       'SC_Rio do Campo', 'SP_IgaratÃ¡', 'SE_Nossa Senhora do Socorro',\n",
       "       'AL_Arapiraca', 'MG_Matozinhos', 'TO_Palmas', 'RS_Nova Hartz',\n",
       "       'BA_Cruz das Almas', 'MG_Pirapora', 'MG_Tupaciguara', 'GO_UruaÃ§u',\n",
       "       'SP_TremembÃ©', 'CE_QuixadÃ¡', 'GO_Pires do Rio', 'AM_Iranduba',\n",
       "       'RN_Nova Cruz', 'SP_Cunha', 'MG_Centralina', 'SP_Rio das Pedras',\n",
       "       'MG_Lagoa Santa', 'CE_TauÃ¡', 'SC_Lauro MÃ¼ller',\n",
       "       'CE_Juazeiro do Norte', 'MG_SabarÃ¡', 'MG_Itapagipe',\n",
       "       'SP_Brodowski', 'PI_Altos', 'MG_ParaisÃ³polis',\n",
       "       'MG_RibeirÃ£o das Neves', 'PR_CorbÃ©lia', 'MG_Campos Altos',\n",
       "       \"PR_SÃ£o Jorge D'Oeste\", 'CE_CrateÃºs', 'MS_SidrolÃ¢ndia',\n",
       "       'SP_Iacanga', 'SE_RibeirÃ³polis', 'MA_Bacabal',\n",
       "       'MG_Entre Rios de Minas', 'PR_Cruzeiro do Oeste',\n",
       "       'SP_Bom Jesus dos PerdÃµes', 'PR_CuriÃºva', 'ES_Vargem Alta',\n",
       "       'PR_CandÃ³i', 'GO_Bom Jesus', 'SP_Fartura', 'SP_CafelÃ¢ndia',\n",
       "       'SP_Cerquilho', 'SC_Santo Amaro da Imperatriz', 'SP_AltinÃ³polis',\n",
       "       'PR_GuaÃ\\xadra', 'AL_Delmiro Gouveia', 'PR_Rio Branco do IvaÃ\\xad',\n",
       "       'RJ_NilÃ³polis', 'MG_JanaÃºba', 'PR_Loanda', 'SP_CesÃ¡rio Lange',\n",
       "       'SP_Francisco Morato', 'SP_Monte Mor', 'MG_Campos Gerais',\n",
       "       'PR_CÃ¢ndido de Abreu', 'SE_Lagarto', 'SC_Santa CecÃ\\xadlia',\n",
       "       'RS_Cerro Largo', 'SP_GuarÃ¡', 'PI_Floriano', 'RS_SÃ£o JerÃ´nimo',\n",
       "       'SP_LuÃ\\xads AntÃ´nio', 'SP_Lavrinhas', 'SP_Tanabi', 'SP_Bariri',\n",
       "       'RS_SÃ£o LourenÃ§o do Sul', 'SP_AmÃ©rico de Campos',\n",
       "       'RS_Arroio dos Ratos', 'SP_Iguape', 'SC_Bom Retiro',\n",
       "       'PR_Mandaguari', 'SP_Itirapina', 'GO_IporÃ¡',\n",
       "       'SP_Santa Cruz da ConceiÃ§Ã£o', 'SP_MongaguÃ¡',\n",
       "       'SP_Santa Rosa de Viterbo', 'GO_SÃ£o LuÃ\\xads de Montes Belos',\n",
       "       'RS_Taquara', 'MG_CarmÃ³polis de Minas', 'SC_Palmitos',\n",
       "       'SP_NazarÃ© Paulista', 'RJ_TanguÃ¡', 'SC_Campo Belo do Sul',\n",
       "       'AP_Santana', 'MG_Pitangui', 'RJ_Japeri', 'AL_Maravilha',\n",
       "       'BA_ItiÃºba', 'SC_SÃ£o LourenÃ§o do Oeste', 'AL_Marechal Deodoro',\n",
       "       'PB_Sousa', 'MS_CaarapÃ³', 'BA_Teixeira de Freitas', 'PR_Pitanga',\n",
       "       'SP_ItaÃ\\xad', 'RN_SÃ£o GonÃ§alo do Amarante',\n",
       "       'PE_SÃ£o JosÃ© do Egito', 'SP_CordeirÃ³polis', 'MG_ErvÃ¡lia',\n",
       "       'ES_Cariacica', 'SP_Aparecida', 'RS_GetÃºlio Vargas',\n",
       "       'AL_UniÃ£o dos Palmares', 'PI_Piripiri', 'BA_Jacobina',\n",
       "       'RJ_Bom Jesus do Itabapoana', 'BA_ValenÃ§a', 'MG_Ouro Branco',\n",
       "       'RS_Soledade', 'SP_Rafard', 'PR_SertanÃ³polis',\n",
       "       'SP_Capela do Alto', 'RJ_Sumidouro', 'SP_Holambra', 'MG_Arcos',\n",
       "       'PR_Marialva', 'MG_SÃ£o JoÃ£o Evangelista', 'SP_ParaÃ\\xadso',\n",
       "       'SP_São Paulo', 'RS_Porto Xavier', 'MG_PerdigÃ£o', 'SP_Jarinu',\n",
       "       'MG_Tiradentes', 'SP_SÃ£o SebastiÃ£o', 'MG_Abre Campo',\n",
       "       'SP_Roseira', 'PR_Reserva', 'RJ_Tamoios', 'MG_Itamarandiba',\n",
       "       'CE_Pacajus', 'RS_SÃ£o Marcos', 'SP_Osazca'], dtype=object)"
      ]
     },
     "execution_count": 7,
     "metadata": {},
     "output_type": "execute_result"
    }
   ],
   "source": [
    "df['uf_cidade'].unique()"
   ]
  },
  {
   "cell_type": "markdown",
   "metadata": {
    "id": "NwM6H081i51z"
   },
   "source": [
    "Algumas colunas estão com caracteres que podem dificultar a análise, então alteramos seus nomes para facilitar seu uso durante o resto da análise.\n",
    "\n",
    "Temos diversos munícipios diferentes, muitos com caracteres indesejados em seus nomes. Iremos considerar apenas a União Federativa de cada anúncio. Isso não só facilita a análise, mas elimina problemas decorrentes da formatação do nome da cidade e também resulta em um conjunto de dados menos fragmentado. Daí, também trocamos o nome da coluna `'uf_cidade'` ."
   ]
  },
  {
   "cell_type": "code",
   "execution_count": 8,
   "metadata": {
    "id": "zjGOL6VyjBsz"
   },
   "outputs": [],
   "source": [
    "dicio.rename(columns={' description':'description'}, inplace=True)\n",
    "df.rename(columns={'cliques_telefone*':'cliques_telefone', 'uf_cidade':'uf'}, inplace=True)\n",
    "\n",
    "df.loc[:,'uf'] = df['uf'].apply(lambda x: x[:2])"
   ]
  },
  {
   "cell_type": "code",
   "execution_count": 9,
   "metadata": {
    "colab": {
     "base_uri": "https://localhost:8080/"
    },
    "id": "8zpl2N5JLgFm",
    "outputId": "ba151248-a036-40be-8975-0dfaa19bb613"
   },
   "outputs": [
    {
     "data": {
      "text/plain": [
       "array(['GO', 'SP', 'RS', 'MG', 'DF', 'RJ', 'PI', 'PA', 'PR', 'SC', 'RN',\n",
       "       'ES', 'PE', 'BA', 'MT', 'MA', 'CE', 'MS', 'PB', 'AL', 'SE', 'AC',\n",
       "       'RO', 'AM', 'RR', 'TO', 'AP', 'N/'], dtype=object)"
      ]
     },
     "execution_count": 9,
     "metadata": {},
     "output_type": "execute_result"
    }
   ],
   "source": [
    "df['uf'].unique()"
   ]
  },
  {
   "cell_type": "markdown",
   "metadata": {
    "id": "R8Ouqq-GK0cd"
   },
   "source": [
    "Ainda restaram campos com dados indesejáveis em nossa nova coluna `'uf'`. Abaixo, alteramos esses dados para facilitar seu tratamento:"
   ]
  },
  {
   "cell_type": "code",
   "execution_count": 10,
   "metadata": {
    "id": "Lgkn9rU5-zjh"
   },
   "outputs": [
    {
     "data": {
      "text/plain": [
       "array(['GO', 'SP', 'RS', 'MG', 'DF', 'RJ', 'PI', 'PA', 'PR', 'SC', 'RN',\n",
       "       'ES', 'PE', 'BA', 'MT', 'MA', 'CE', 'MS', 'PB', 'AL', 'SE', 'AC',\n",
       "       'RO', 'AM', 'RR', 'TO', 'AP', nan], dtype=object)"
      ]
     },
     "execution_count": 10,
     "metadata": {},
     "output_type": "execute_result"
    }
   ],
   "source": [
    "# tratamento da coluna: \n",
    "df.loc[:,'uf'] = df['uf'].apply(lambda x: np.nan if (x == 'N/') else x)\n",
    "\n",
    "# valores presentes na coluna após o tratamento: \n",
    "df['uf'].unique()"
   ]
  },
  {
   "cell_type": "markdown",
   "metadata": {
    "id": "RaV_XOpRZJZp"
   },
   "source": [
    "As colunas `cod_anuncio` e `cod_cliente` não são relevantes para esta análise, e portanto as descartamos.\n",
    "\n",
    "Vemos que as colunas de `alarme` até `sensorestacion`  possuem dados qualitativos (`'S'` e `'N'`) que podemos substituir por `0` e `1` para melhor processá-los depois.\n",
    "\n",
    "\n"
   ]
  },
  {
   "cell_type": "code",
   "execution_count": 11,
   "metadata": {
    "id": "ytMCZWvEDydo"
   },
   "outputs": [],
   "source": [
    "# descartamos dados irrelevantes: \n",
    "df.drop('cod_cliente', inplace=True, axis=1)\n",
    "df.drop('cod_anuncio', inplace=True, axis=1)\n",
    "\n",
    "# atribuímos 1 para presença, 0 para ausência, e np.nan para dados inválidos:\n",
    "for i in range(27, len(df.T)):\n",
    "  df.iloc[:, i] = df.iloc[:, i].apply(lambda x: 1 if (x == 'S') else (0 if x == 'N' else np.nan))"
   ]
  },
  {
   "cell_type": "markdown",
   "metadata": {
    "id": "bZmIp7899eHn"
   },
   "source": [
    "## Dados Nulos\n",
    "Aqui buscamos por dados nulos para poder tratá-los. Nesta análise, por questão de tempo, optaremos por remover a maioria dos dados nulos, mas sabendo que é possível, em uma análise mais profunda, inferir ou estimar muitas informações ausentes e/ou inconsistentes.\n",
    "\n",
    "Exibimos abaixo uma relação dos dados nulos:"
   ]
  },
  {
   "cell_type": "code",
   "execution_count": 12,
   "metadata": {
    "colab": {
     "base_uri": "https://localhost:8080/"
    },
    "id": "4DZLihv9mikl",
    "outputId": "f42274aa-fff7-4f09-943c-62dc69ca2e09"
   },
   "outputs": [
    {
     "data": {
      "text/plain": [
       "uf                                      4\n",
       "vlr_mercado                          6217\n",
       "flg_ipva_pago                         312\n",
       "flg_todas_revisoes_concessionaria     312\n",
       "flg_garantia_fabrica                  312\n",
       "flg_adaptado_pcd                      312\n",
       "combustivel                             1\n",
       "cambio                                  1\n",
       "portas                                  1\n",
       "alarme                                  1\n",
       "airbag                                  8\n",
       "arquente                                1\n",
       "bancocouro                              1\n",
       "arcondic                                1\n",
       "abs                                     1\n",
       "desembtras                              1\n",
       "travaeletr                              1\n",
       "vidroseletr                             1\n",
       "rodasliga                               1\n",
       "sensorchuva                             1\n",
       "sensorestacion                          1\n",
       "dtype: int64"
      ]
     },
     "execution_count": 12,
     "metadata": {},
     "output_type": "execute_result"
    }
   ],
   "source": [
    "(df\n",
    " .isnull()\n",
    " .sum()\n",
    " [df.isnull().sum() > 0])"
   ]
  },
  {
   "cell_type": "markdown",
   "metadata": {
    "id": "e9uv4Bx3Hn7k"
   },
   "source": [
    "Olhando para a linha que possui dado nulo na coluna `'abs'`, percebemos que se trata de um anúncio que falta diversas informações, e por isso o descartamos. Se rodarmos a célula acima após rodar a célula abaixo, perceberemos que isso elimina a presença de dados nulos em boa parte das colunas.  "
   ]
  },
  {
   "cell_type": "code",
   "execution_count": 13,
   "metadata": {
    "colab": {
     "base_uri": "https://localhost:8080/",
     "height": 145
    },
    "id": "5cS_SulnFxlO",
    "outputId": "b75206e5-a017-47ba-87ad-eb9bbf4839e5"
   },
   "outputs": [
    {
     "data": {
      "text/html": [
       "<div>\n",
       "<style scoped>\n",
       "    .dataframe tbody tr th:only-of-type {\n",
       "        vertical-align: middle;\n",
       "    }\n",
       "\n",
       "    .dataframe tbody tr th {\n",
       "        vertical-align: top;\n",
       "    }\n",
       "\n",
       "    .dataframe thead th {\n",
       "        text-align: right;\n",
       "    }\n",
       "</style>\n",
       "<table border=\"1\" class=\"dataframe\">\n",
       "  <thead>\n",
       "    <tr style=\"text-align: right;\">\n",
       "      <th></th>\n",
       "      <th>uf</th>\n",
       "      <th>vlr_anuncio</th>\n",
       "      <th>qtd_fotos</th>\n",
       "      <th>km_veiculo</th>\n",
       "      <th>vlr_mercado</th>\n",
       "      <th>flg_unico_dono</th>\n",
       "      <th>flg_licenciado</th>\n",
       "      <th>flg_ipva_pago</th>\n",
       "      <th>flg_todas_revisoes_concessionaria</th>\n",
       "      <th>flg_todas_revisoes_agenda_veiculo</th>\n",
       "      <th>flg_garantia_fabrica</th>\n",
       "    </tr>\n",
       "  </thead>\n",
       "  <tbody>\n",
       "    <tr>\n",
       "      <th>0</th>\n",
       "      <td>GO</td>\n",
       "      <td>110990.0</td>\n",
       "      <td>7</td>\n",
       "      <td>0</td>\n",
       "      <td>NaN</td>\n",
       "      <td>0</td>\n",
       "      <td>0</td>\n",
       "      <td>0.0</td>\n",
       "      <td>0.0</td>\n",
       "      <td>0</td>\n",
       "      <td>0.0</td>\n",
       "    </tr>\n",
       "  </tbody>\n",
       "</table>\n",
       "</div>"
      ],
      "text/plain": [
       "   uf  vlr_anuncio  qtd_fotos  km_veiculo  vlr_mercado  flg_unico_dono  \\\n",
       "0  GO     110990.0          7           0          NaN               0   \n",
       "\n",
       "   flg_licenciado  flg_ipva_pago  flg_todas_revisoes_concessionaria  \\\n",
       "0               0            0.0                                0.0   \n",
       "\n",
       "   flg_todas_revisoes_agenda_veiculo  flg_garantia_fabrica  \n",
       "0                                  0                   0.0  "
      ]
     },
     "execution_count": 13,
     "metadata": {},
     "output_type": "execute_result"
    }
   ],
   "source": [
    "df_show(df[df['abs'].isnull()])"
   ]
  },
  {
   "cell_type": "code",
   "execution_count": 14,
   "metadata": {
    "id": "_YX1CnXaNQq_"
   },
   "outputs": [],
   "source": [
    "df = df[df['abs'].isnull() == False]"
   ]
  },
  {
   "cell_type": "markdown",
   "metadata": {
    "id": "JWVrbWowvqCi"
   },
   "source": [
    "O valor de mercado de um veículo é muito importante para esta análise e modelagem. Por simplicidade, aqui descartaremos anúncios cujo valor de mercado está ausente. Mas este poderia muito bem ser inferido a partir dos demais anúncios (por exemplo pesquisando nos dados por veículos de mesma marca, ano e modelo, e verificando se o valor de mercado está presente), ou por alguma pesquisa externa.\n",
    "\n",
    "Removemos também as demais linhas com dados nulos, pois representam menos de 1% do total de dados. Esses dados nulos também poderiam ser melhor tratados em uma análise e modelagem mais detalhada, o que levaria mais tempo."
   ]
  },
  {
   "cell_type": "code",
   "execution_count": 15,
   "metadata": {
    "id": "CGN5qr166eRb"
   },
   "outputs": [],
   "source": [
    "df = df[df['vlr_mercado'].isnull() == False]\n",
    "df = df[df['flg_ipva_pago'].isnull() == False]\n",
    "df = df[df['airbag'].isnull() == False]"
   ]
  },
  {
   "cell_type": "markdown",
   "metadata": {
    "id": "e993hajTA8nc"
   },
   "source": [
    "Descartamos carros cujo valor do anúncio é nulo, e também carros com 0 portas:"
   ]
  },
  {
   "cell_type": "code",
   "execution_count": 16,
   "metadata": {
    "id": "U8fyaWTLBBkS"
   },
   "outputs": [],
   "source": [
    "df = df[df['vlr_anuncio'] > 0]\n",
    "df = df[df['portas'] > 0]"
   ]
  },
  {
   "cell_type": "markdown",
   "metadata": {
    "id": "IZnzHuv2CDo4"
   },
   "source": [
    "Agora, olhamos um resumo dos dados:"
   ]
  },
  {
   "cell_type": "code",
   "execution_count": 17,
   "metadata": {
    "colab": {
     "base_uri": "https://localhost:8080/",
     "height": 300
    },
    "id": "nsBcor8Jh3Yg",
    "outputId": "d21b1375-c49b-48d4-e13d-39f596fe49ee"
   },
   "outputs": [
    {
     "data": {
      "text/html": [
       "<div>\n",
       "<style scoped>\n",
       "    .dataframe tbody tr th:only-of-type {\n",
       "        vertical-align: middle;\n",
       "    }\n",
       "\n",
       "    .dataframe tbody tr th {\n",
       "        vertical-align: top;\n",
       "    }\n",
       "\n",
       "    .dataframe thead th {\n",
       "        text-align: right;\n",
       "    }\n",
       "</style>\n",
       "<table border=\"1\" class=\"dataframe\">\n",
       "  <thead>\n",
       "    <tr style=\"text-align: right;\">\n",
       "      <th></th>\n",
       "      <th>vlr_mercado</th>\n",
       "      <th>flg_unico_dono</th>\n",
       "      <th>flg_licenciado</th>\n",
       "      <th>flg_ipva_pago</th>\n",
       "      <th>flg_todas_revisoes_concessionaria</th>\n",
       "      <th>flg_todas_revisoes_agenda_veiculo</th>\n",
       "      <th>flg_garantia_fabrica</th>\n",
       "      <th>flg_blindado</th>\n",
       "      <th>flg_aceita_troca</th>\n",
       "      <th>flg_adaptado_pcd</th>\n",
       "      <th>portas</th>\n",
       "    </tr>\n",
       "  </thead>\n",
       "  <tbody>\n",
       "    <tr>\n",
       "      <th>count</th>\n",
       "      <td>4.133200e+04</td>\n",
       "      <td>41332.000000</td>\n",
       "      <td>41332.000000</td>\n",
       "      <td>41332.000000</td>\n",
       "      <td>41332.000000</td>\n",
       "      <td>41332.000000</td>\n",
       "      <td>41332.000000</td>\n",
       "      <td>41332.000000</td>\n",
       "      <td>41332.000000</td>\n",
       "      <td>41332.000000</td>\n",
       "      <td>41332.000000</td>\n",
       "    </tr>\n",
       "    <tr>\n",
       "      <th>mean</th>\n",
       "      <td>5.225907e+04</td>\n",
       "      <td>0.212305</td>\n",
       "      <td>0.302332</td>\n",
       "      <td>0.402424</td>\n",
       "      <td>0.148481</td>\n",
       "      <td>0.063341</td>\n",
       "      <td>0.068204</td>\n",
       "      <td>0.017638</td>\n",
       "      <td>0.072365</td>\n",
       "      <td>0.000387</td>\n",
       "      <td>3.854810</td>\n",
       "    </tr>\n",
       "    <tr>\n",
       "      <th>std</th>\n",
       "      <td>4.062460e+04</td>\n",
       "      <td>0.408945</td>\n",
       "      <td>0.459274</td>\n",
       "      <td>0.490392</td>\n",
       "      <td>0.355580</td>\n",
       "      <td>0.243578</td>\n",
       "      <td>0.252098</td>\n",
       "      <td>0.131632</td>\n",
       "      <td>0.259095</td>\n",
       "      <td>0.019672</td>\n",
       "      <td>0.511836</td>\n",
       "    </tr>\n",
       "    <tr>\n",
       "      <th>min</th>\n",
       "      <td>6.292844e+03</td>\n",
       "      <td>0.000000</td>\n",
       "      <td>0.000000</td>\n",
       "      <td>0.000000</td>\n",
       "      <td>0.000000</td>\n",
       "      <td>0.000000</td>\n",
       "      <td>0.000000</td>\n",
       "      <td>0.000000</td>\n",
       "      <td>0.000000</td>\n",
       "      <td>0.000000</td>\n",
       "      <td>2.000000</td>\n",
       "    </tr>\n",
       "    <tr>\n",
       "      <th>25%</th>\n",
       "      <td>3.128647e+04</td>\n",
       "      <td>0.000000</td>\n",
       "      <td>0.000000</td>\n",
       "      <td>0.000000</td>\n",
       "      <td>0.000000</td>\n",
       "      <td>0.000000</td>\n",
       "      <td>0.000000</td>\n",
       "      <td>0.000000</td>\n",
       "      <td>0.000000</td>\n",
       "      <td>0.000000</td>\n",
       "      <td>4.000000</td>\n",
       "    </tr>\n",
       "    <tr>\n",
       "      <th>50%</th>\n",
       "      <td>4.047547e+04</td>\n",
       "      <td>0.000000</td>\n",
       "      <td>0.000000</td>\n",
       "      <td>0.000000</td>\n",
       "      <td>0.000000</td>\n",
       "      <td>0.000000</td>\n",
       "      <td>0.000000</td>\n",
       "      <td>0.000000</td>\n",
       "      <td>0.000000</td>\n",
       "      <td>0.000000</td>\n",
       "      <td>4.000000</td>\n",
       "    </tr>\n",
       "    <tr>\n",
       "      <th>75%</th>\n",
       "      <td>6.090083e+04</td>\n",
       "      <td>0.000000</td>\n",
       "      <td>1.000000</td>\n",
       "      <td>1.000000</td>\n",
       "      <td>0.000000</td>\n",
       "      <td>0.000000</td>\n",
       "      <td>0.000000</td>\n",
       "      <td>0.000000</td>\n",
       "      <td>0.000000</td>\n",
       "      <td>0.000000</td>\n",
       "      <td>4.000000</td>\n",
       "    </tr>\n",
       "    <tr>\n",
       "      <th>max</th>\n",
       "      <td>1.111216e+06</td>\n",
       "      <td>1.000000</td>\n",
       "      <td>1.000000</td>\n",
       "      <td>1.000000</td>\n",
       "      <td>1.000000</td>\n",
       "      <td>1.000000</td>\n",
       "      <td>1.000000</td>\n",
       "      <td>1.000000</td>\n",
       "      <td>1.000000</td>\n",
       "      <td>1.000000</td>\n",
       "      <td>4.000000</td>\n",
       "    </tr>\n",
       "  </tbody>\n",
       "</table>\n",
       "</div>"
      ],
      "text/plain": [
       "        vlr_mercado  flg_unico_dono  flg_licenciado  flg_ipva_pago  \\\n",
       "count  4.133200e+04    41332.000000    41332.000000   41332.000000   \n",
       "mean   5.225907e+04        0.212305        0.302332       0.402424   \n",
       "std    4.062460e+04        0.408945        0.459274       0.490392   \n",
       "min    6.292844e+03        0.000000        0.000000       0.000000   \n",
       "25%    3.128647e+04        0.000000        0.000000       0.000000   \n",
       "50%    4.047547e+04        0.000000        0.000000       0.000000   \n",
       "75%    6.090083e+04        0.000000        1.000000       1.000000   \n",
       "max    1.111216e+06        1.000000        1.000000       1.000000   \n",
       "\n",
       "       flg_todas_revisoes_concessionaria  flg_todas_revisoes_agenda_veiculo  \\\n",
       "count                       41332.000000                       41332.000000   \n",
       "mean                            0.148481                           0.063341   \n",
       "std                             0.355580                           0.243578   \n",
       "min                             0.000000                           0.000000   \n",
       "25%                             0.000000                           0.000000   \n",
       "50%                             0.000000                           0.000000   \n",
       "75%                             0.000000                           0.000000   \n",
       "max                             1.000000                           1.000000   \n",
       "\n",
       "       flg_garantia_fabrica  flg_blindado  flg_aceita_troca  flg_adaptado_pcd  \\\n",
       "count          41332.000000  41332.000000      41332.000000      41332.000000   \n",
       "mean               0.068204      0.017638          0.072365          0.000387   \n",
       "std                0.252098      0.131632          0.259095          0.019672   \n",
       "min                0.000000      0.000000          0.000000          0.000000   \n",
       "25%                0.000000      0.000000          0.000000          0.000000   \n",
       "50%                0.000000      0.000000          0.000000          0.000000   \n",
       "75%                0.000000      0.000000          0.000000          0.000000   \n",
       "max                1.000000      1.000000          1.000000          1.000000   \n",
       "\n",
       "             portas  \n",
       "count  41332.000000  \n",
       "mean       3.854810  \n",
       "std        0.511836  \n",
       "min        2.000000  \n",
       "25%        4.000000  \n",
       "50%        4.000000  \n",
       "75%        4.000000  \n",
       "max        4.000000  "
      ]
     },
     "execution_count": 17,
     "metadata": {},
     "output_type": "execute_result"
    }
   ],
   "source": [
    "# execute esta célula várias vezes para alternar as colunas visualizadas\n",
    "df_show(df.describe())"
   ]
  },
  {
   "cell_type": "markdown",
   "metadata": {
    "id": "ndkSxBG3O3-f"
   },
   "source": [
    "Acima, podemos ver algumas coisas:\n",
    "- a grande maioria dos veículos não é blindada;\n",
    "- a grande maioria não é adaptada para PCD;\n",
    "- a grande maioria possui 4 portas;\n",
    "- a maioria possui alarme;\n",
    "- a maioria possui airbag;\n",
    "- a maioria possui ar quente;\n",
    "- a maioria não possui banco de couro;\n",
    "- a maioria possui freio abs...\n",
    "\n",
    "Dentre outras coisas.\n"
   ]
  },
  {
   "cell_type": "markdown",
   "metadata": {
    "id": "MDLC6aL9-9Mr"
   },
   "source": [
    "##Outliers e Inconsistências\n",
    "\n",
    "Aqui, damos início a uma busca por outliers e dados inconsistentes. Em função do tempo, optaremos aqui por apenas descartar a maioria."
   ]
  },
  {
   "cell_type": "markdown",
   "metadata": {
    "id": "DyGxbDMFYSKi"
   },
   "source": [
    "### `'vlr_mercado' x 'vlr_anuncio'`\n",
    "\n",
    "É esperado que um veículo seja anunciado por um valor não muito distante do seu valor de mercado. Certamente o valor do anúncio pode estar abaixo ou acima do valor de mercado, a depender do vendedor e dos motivos da venda, mas é improvável que essa diferença seja muito grande. Com isso em mente, iremos plotar um gráfico `'vlr_mercado' x 'vlr_anuncio'`, esperando que o gráfico não esteja muito longe da reta `y = x`."
   ]
  },
  {
   "cell_type": "code",
   "execution_count": 18,
   "metadata": {
    "colab": {
     "base_uri": "https://localhost:8080/",
     "height": 1000
    },
    "id": "9KnqG3oPbWPq",
    "outputId": "76bf07ce-9360-4507-add7-32423b26625e"
   },
   "outputs": [
    {
     "data": {
      "image/png": "[encoded data removed]",
      "text/plain": [
       "<Figure size 500x500 with 1 Axes>"
      ]
     },
     "metadata": {},
     "output_type": "display_data"
    }
   ],
   "source": [
    "(dataplot(\n",
    "    df,\n",
    "    'vlr_mercado',\n",
    "    'vlr_anuncio',\n",
    "    add = [\n",
    "           np.linspace(0, 1052017, 2),\n",
    "           np.linspace(0, 1052017, 2)    # reta y=x\n",
    "           ],\n",
    "    linestyle2='solid'\n",
    "          )\n",
    ")"
   ]
  },
  {
   "cell_type": "markdown",
   "metadata": {
    "id": "xaqlHrF7u4UZ"
   },
   "source": [
    "Vemos acima muitos veículos com preço muito elevado. Considerando que R\\$ 10.000.000 é um valor muito alto até mesmo para veículos de luxo (embora não seja impossível), descartaremos veículos com valor maior ou igual a este. Em análises posteriores, podemos olhar o modelo, marca, ano e versão dos veículos para estimar ou corrigir seus valores de mercado com cuidado.   "
   ]
  },
  {
   "cell_type": "code",
   "execution_count": 19,
   "metadata": {
    "id": "yBTIYEFzvCx0"
   },
   "outputs": [],
   "source": [
    "df = df[df['vlr_anuncio'] < 10**7]"
   ]
  },
  {
   "cell_type": "code",
   "execution_count": 20,
   "metadata": {
    "colab": {
     "base_uri": "https://localhost:8080/",
     "height": 1000
    },
    "id": "EHWsqoXMnVe6",
    "outputId": "32a3f2e9-4f8b-4946-a310-8236a483c8d3"
   },
   "outputs": [
    {
     "data": {
      "image/png": "[encoded data removed]",
      "text/plain": [
       "<Figure size 500x500 with 1 Axes>"
      ]
     },
     "metadata": {},
     "output_type": "display_data"
    }
   ],
   "source": [
    "(dataplot(\n",
    "    df,\n",
    "    'vlr_mercado',\n",
    "    'vlr_anuncio',\n",
    "    add = [\n",
    "           np.linspace(0, 1150000, 2),\n",
    "           np.linspace(0, 1150000, 2)    # reta y=x\n",
    "           ],\n",
    "    linestyle2='solid'\n",
    "          )\n",
    ")"
   ]
  },
  {
   "cell_type": "markdown",
   "metadata": {
    "id": "1Qc4uGc_D2Z6"
   },
   "source": [
    "Podemos ver acima que, dos veículos que sobraram cujo preço está acima de R\\$ 1.000.000,00, dois deles possuem valor de anúncio muito superior ao valor de mercado.\n",
    "\n",
    "Abaixo vemos que o veículo na linha `45515` tem R\\$ 18.638,86 como valor de mercado e R\\$ 1.990.000,00 como valor de anúncio, o que parece absurdo. Entretanto, o valor de anúncio parece mero erro de digitação, pois se o carro custasse apenas R\\$ 19.990,00, seu preço estaria condizente com valor de mercado e ano, além de outros detalhes, como ausência de freio abs, de ar condicionado...\n",
    "\n",
    "Podemos aplicar raciocínio semelhante ao veículo `29754`.\n",
    "\n",
    "O veículo `42537` será descartado da análise já que seu preço não faz sentido.\n",
    "\n",
    "O veículo na linha `99` parece fazer estar correto."
   ]
  },
  {
   "cell_type": "code",
   "execution_count": 21,
   "metadata": {
    "colab": {
     "base_uri": "https://localhost:8080/",
     "height": 175
    },
    "id": "FpvGzmCPCh9G",
    "outputId": "b992e7dc-5ee5-4741-8146-6f38c86f6750"
   },
   "outputs": [
    {
     "data": {
      "text/html": [
       "<div>\n",
       "<style scoped>\n",
       "    .dataframe tbody tr th:only-of-type {\n",
       "        vertical-align: middle;\n",
       "    }\n",
       "\n",
       "    .dataframe tbody tr th {\n",
       "        vertical-align: top;\n",
       "    }\n",
       "\n",
       "    .dataframe thead th {\n",
       "        text-align: right;\n",
       "    }\n",
       "</style>\n",
       "<table border=\"1\" class=\"dataframe\">\n",
       "  <thead>\n",
       "    <tr style=\"text-align: right;\">\n",
       "      <th></th>\n",
       "      <th>cod_tipo_pessoa</th>\n",
       "      <th>prioridade</th>\n",
       "      <th>leads</th>\n",
       "      <th>views</th>\n",
       "      <th>cliques_telefone</th>\n",
       "      <th>cod_marca_veiculo</th>\n",
       "      <th>cod_modelo_veiculo</th>\n",
       "      <th>cod_versao_veiculo</th>\n",
       "      <th>ano_modelo</th>\n",
       "      <th>cep_2dig</th>\n",
       "      <th>uf</th>\n",
       "    </tr>\n",
       "  </thead>\n",
       "  <tbody>\n",
       "    <tr>\n",
       "      <th>99</th>\n",
       "      <td>1</td>\n",
       "      <td>1</td>\n",
       "      <td>40</td>\n",
       "      <td>0</td>\n",
       "      <td>55</td>\n",
       "      <td>15</td>\n",
       "      <td>3104</td>\n",
       "      <td>342936</td>\n",
       "      <td>2011</td>\n",
       "      <td>4</td>\n",
       "      <td>SP</td>\n",
       "    </tr>\n",
       "    <tr>\n",
       "      <th>29754</th>\n",
       "      <td>1</td>\n",
       "      <td>2</td>\n",
       "      <td>24</td>\n",
       "      <td>1472</td>\n",
       "      <td>27</td>\n",
       "      <td>16</td>\n",
       "      <td>3508</td>\n",
       "      <td>346078</td>\n",
       "      <td>2016</td>\n",
       "      <td>5</td>\n",
       "      <td>SP</td>\n",
       "    </tr>\n",
       "    <tr>\n",
       "      <th>42537</th>\n",
       "      <td>2</td>\n",
       "      <td>3</td>\n",
       "      <td>1</td>\n",
       "      <td>8</td>\n",
       "      <td>4</td>\n",
       "      <td>280</td>\n",
       "      <td>3365</td>\n",
       "      <td>346359</td>\n",
       "      <td>2016</td>\n",
       "      <td>95</td>\n",
       "      <td>RS</td>\n",
       "    </tr>\n",
       "    <tr>\n",
       "      <th>45515</th>\n",
       "      <td>2</td>\n",
       "      <td>3</td>\n",
       "      <td>16</td>\n",
       "      <td>64</td>\n",
       "      <td>4</td>\n",
       "      <td>4</td>\n",
       "      <td>781</td>\n",
       "      <td>341981</td>\n",
       "      <td>2010</td>\n",
       "      <td>35</td>\n",
       "      <td>MG</td>\n",
       "    </tr>\n",
       "  </tbody>\n",
       "</table>\n",
       "</div>"
      ],
      "text/plain": [
       "       cod_tipo_pessoa  prioridade  leads  views  cliques_telefone  \\\n",
       "99                   1           1     40      0                55   \n",
       "29754                1           2     24   1472                27   \n",
       "42537                2           3      1      8                 4   \n",
       "45515                2           3     16     64                 4   \n",
       "\n",
       "       cod_marca_veiculo  cod_modelo_veiculo  cod_versao_veiculo  ano_modelo  \\\n",
       "99                    15                3104              342936        2011   \n",
       "29754                 16                3508              346078        2016   \n",
       "42537                280                3365              346359        2016   \n",
       "45515                  4                 781              341981        2010   \n",
       "\n",
       "       cep_2dig  uf  \n",
       "99            4  SP  \n",
       "29754         5  SP  \n",
       "42537        95  RS  \n",
       "45515        35  MG  "
      ]
     },
     "execution_count": 21,
     "metadata": {},
     "output_type": "execute_result"
    }
   ],
   "source": [
    "df_show((df[df['vlr_anuncio'] >= 10**6]))"
   ]
  },
  {
   "cell_type": "code",
   "execution_count": 22,
   "metadata": {
    "id": "Vbu0LLpOHlF2"
   },
   "outputs": [],
   "source": [
    "df.loc[29754, 'vlr_anuncio']/=100\n",
    "df.loc[45515, 'vlr_anuncio']/=100\n",
    "\n",
    "df = df[df['vlr_anuncio'] != 10**6]"
   ]
  },
  {
   "cell_type": "markdown",
   "metadata": {
    "id": "gEvwmfKQq9J6"
   },
   "source": [
    "E agora podemos ver que os valores de anúncio parecem estar condizentes com os valores de mercado:"
   ]
  },
  {
   "cell_type": "code",
   "execution_count": 23,
   "metadata": {
    "colab": {
     "base_uri": "https://localhost:8080/",
     "height": 1000
    },
    "id": "ZfagG1_rq8aS",
    "outputId": "87390b88-c3e9-4e04-932c-42d034cec187"
   },
   "outputs": [
    {
     "data": {
      "image/png": "[encoded data removed]",
      "text/plain": [
       "<Figure size 500x500 with 1 Axes>"
      ]
     },
     "metadata": {},
     "output_type": "display_data"
    }
   ],
   "source": [
    "(dataplot(\n",
    "    df,\n",
    "    'vlr_mercado',\n",
    "    'vlr_anuncio',\n",
    "    add = [\n",
    "           np.linspace(0, 1150000, 2),\n",
    "           np.linspace(0, 1150000, 2)    # reta y=x\n",
    "           ],\n",
    "    linestyle2='solid'\n",
    "          )\n",
    ")"
   ]
  },
  {
   "cell_type": "markdown",
   "metadata": {
    "id": "ACRJmO7iASyf"
   },
   "source": [
    "### Ano Inválido\n",
    "Também vemos que há veículos cujo ano é -1, o que é uma inconsistência. Descartaremos esses dados."
   ]
  },
  {
   "cell_type": "code",
   "execution_count": 24,
   "metadata": {
    "id": "8wTAv4UZAfyQ"
   },
   "outputs": [],
   "source": [
    "df = df[df['ano_modelo'] > 0]"
   ]
  },
  {
   "cell_type": "markdown",
   "metadata": {
    "id": "pR24FXhSNhkM"
   },
   "source": [
    "###Relação entre `views` e `leads` e `cliques_telefone`\n",
    "\n",
    "Talvez não seja essa a mecânica da plataforma, mas como não podemos consultar um especialista ou desenvolvedor no momento, vamos considerar que para fazer uma proposta (`leads`), seja necessário que primeiro se visualize (`views`) o anúncio.\n",
    "\n",
    "Também vamos considerar que é impossível clicar em número de telefone em um anúncio (`cliques_telefone`) sem visualizar primeiro o anúncio (`views`).\n",
    "\n",
    "Se for assim mesmo que a plataforma funciona, então para cada anúncio, necessariamente vamos ter:\n",
    "\n",
    "- `views` ≥ `leads`\n",
    "- `views` ≥ `cliques_telefone`\n",
    "\n",
    "Ou seja, iremos considerar anúncios que possuem mais cliques do que views como dados inconsistentes e iremos descartá-los. Bem como anúncios que possuem mais leads do que views. Vemos abaixo que os dados que estamos removendo, considerados inconsistentes, de fato são poucos e sua remoção não deve afetar a análise."
   ]
  },
  {
   "cell_type": "code",
   "execution_count": 25,
   "metadata": {
    "colab": {
     "base_uri": "https://localhost:8080/",
     "height": 1000
    },
    "id": "9dXodHvLcnlM",
    "outputId": "0f4ca7be-43d3-48f3-a5b3-3cfc7bea2874"
   },
   "outputs": [
    {
     "data": {
      "image/png": "[encoded data removed]",
      "text/plain": [
       "<Figure size 500x500 with 1 Axes>"
      ]
     },
     "metadata": {},
     "output_type": "display_data"
    }
   ],
   "source": [
    "(dataplot(\n",
    "    df [df['views'] >= df['leads']],\n",
    "    'leads',\n",
    "    'views',\n",
    "    add=[\n",
    "         df [df['views'] < df['leads']] ['leads'],\n",
    "         df [df['views'] < df['leads']] ['views']\n",
    "               ] ))"
   ]
  },
  {
   "cell_type": "code",
   "execution_count": 26,
   "metadata": {
    "colab": {
     "base_uri": "https://localhost:8080/",
     "height": 1000
    },
    "id": "moGCf-MKgpcu",
    "outputId": "e235c573-a7bf-49c8-e038-ccdf22be787a"
   },
   "outputs": [
    {
     "data": {
      "image/png": "[encoded data removed]",
      "text/plain": [
       "<Figure size 500x500 with 1 Axes>"
      ]
     },
     "metadata": {},
     "output_type": "display_data"
    }
   ],
   "source": [
    "(dataplot(\n",
    "    df [ df['views'] >= df['cliques_telefone'] ],\n",
    "    'cliques_telefone',\n",
    "    'views',\n",
    "    add=[\n",
    "         df [ df['views'] < df['cliques_telefone'] ] ['cliques_telefone'],\n",
    "         df [ df['views'] < df['cliques_telefone'] ] ['views']\n",
    "               ] ))"
   ]
  },
  {
   "cell_type": "code",
   "execution_count": 27,
   "metadata": {
    "id": "Qkm4Z-MpNlZx"
   },
   "outputs": [],
   "source": [
    "df = df[df['cliques_telefone'] <= df['views']]\n",
    "df = df[df['leads'] <= df['views']]"
   ]
  },
  {
   "cell_type": "markdown",
   "metadata": {
    "id": "JJ1ibYmrwRDQ"
   },
   "source": [
    "### Quilometragem\n",
    "\n",
    "A quilometragem de um carro pode variar muito, de modo que é difícil estimar valores. Para nos auxiliar na avaliação desses dados, faremos uma pequena pesquisa externa. Em uma análise mais elaborada, entretanto, certamente faríamos uma pesquisa mais robusta e procuraríamos entrar em contato com especialistas em vez de apenas nos basear na primeira coisa que aparece nos mecanismos de busca.\n",
    "\n",
    "\"A média de quilometragem que um veículo novo percorre durante um ano é de 15 mil a 20 mil quilômetros\"\n",
    "- fonte: https://www.webmotors.com.br/wm1/dinheiro-e-economia/existe-limite-de-quilometragem-para-carro-usado\n",
    "\n",
    "\n"
   ]
  },
  {
   "cell_type": "markdown",
   "metadata": {
    "id": "j20wDBLpk9ac"
   },
   "source": [
    " \"De acordo com as nossas pesquisas, o brasileiro roda, em média, 12.900 km com seu carro por ano. Porém, esta distância se refere somente ao primeiro ano de vida do modelo. A KBB Brasil identificou que à medida em que o veículo vai ficando \"mais velho\", sua quilometragem anual diminui numa taxa média de 390 km ao ano. Ou seja, em cinco anos, um carro pode deixar de rodar cerca de 2.000 km.\n",
    "\n",
    "\\[...\\]\n",
    "\n",
    "Cada região do país possui sua própria média de quilometragem no primeiro ano devido às suas características particulares, conforme mostra a tabela a seguir. A diferença entre os estados pode chegar a 6.500 km, considerando a média trafegada pelo pernambucanos (11.100 km) e dos tocantinenses (17.600 km).\"\n",
    "- fonte: https://www.kbb.com.br/detalhes-noticia/quilometragem-precos-carro-usado/?id=1802"
   ]
  },
  {
   "cell_type": "markdown",
   "metadata": {
    "id": "JhiJ3uwIlj6E"
   },
   "source": [
    "Nossa breve pesquisa indica que a média de quilômetros rodados por ano por um veículo é abaixo de 20.000 km. Com base nisso, tentaremos detectar outliers, e iremos eliminar, veículos que rodaram acima de 40.000 km por ano.\n",
    "\n",
    "Antes de tudo, plotamos abaixo o gráfico de quilômetros por ano de cada veículo:"
   ]
  },
  {
   "cell_type": "code",
   "execution_count": 28,
   "metadata": {
    "colab": {
     "base_uri": "https://localhost:8080/",
     "height": 1000
    },
    "id": "DMBeWWIxv_1T",
    "outputId": "e00bc4a9-5761-4582-a02a-12bceb6d3616"
   },
   "outputs": [
    {
     "data": {
      "image/png": "[encoded data removed]",
      "text/plain": [
       "<Figure size 500x500 with 1 Axes>"
      ]
     },
     "metadata": {},
     "output_type": "display_data"
    }
   ],
   "source": [
    "dataplot(df,'ano_modelo', 'km_veiculo')"
   ]
  },
  {
   "cell_type": "markdown",
   "metadata": {
    "id": "zMxvOLZYm4DP"
   },
   "source": [
    "Podemos ver que há pelo menos um número que parece tão alto em relação ao resto a ponto de não ser crível. Agora, iremos eliminar veículos que rodaram mais do que 40.000km por ano e plotar novamente o gráfico:"
   ]
  },
  {
   "cell_type": "code",
   "execution_count": 36,
   "metadata": {
    "colab": {
     "base_uri": "https://localhost:8080/",
     "height": 1000
    },
    "id": "xe7Hyz5nnSpk",
    "outputId": "8d763449-d613-4a56-f565-3b9e0b32b2f0"
   },
   "outputs": [
    {
     "data": {
      "image/png": "[encoded data removed]",
      "text/plain": [
       "<Figure size 800x500 with 1 Axes>"
      ]
     },
     "metadata": {},
     "output_type": "display_data"
    }
   ],
   "source": [
    "df = df[df['km_veiculo'] <= 40000*(2022 - df['ano_modelo'])]\n",
    "\n",
    "dataplot(df,'ano_modelo', 'km_veiculo', size=(8,5))"
   ]
  },
  {
   "cell_type": "markdown",
   "metadata": {
    "id": "b5wbfwaRai63"
   },
   "source": [
    "Provavelmente poderíamos ter tomado mais cuidado e ter escolhido métricas melhores para escolher os dados a serem removidos, mas um estudo desse tomaria mais tempo do que o que dispomos."
   ]
  },
  {
   "cell_type": "markdown",
   "metadata": {
    "id": "Pq9iSV7YsuX5"
   },
   "source": [
    "# Feature Engineering\n",
    "\n",
    "Agora que já fizemos uma limpeza dos dados, podemos criar algumas variáveis novas para nos ajudar a analisar e modelar o problema.\n",
    "\n",
    "## Valor Relativo\n",
    "\n",
    "Sabemos que o valor do anúncio de um carro é importante na hora da compra, e que é comum que um comprador procure saber se um carro está anunciado acima ou abaixo do seu valor de mercado. Desse modo, criamos a variável valor relativo, que é uma representação do valor do anúncio como uma porcentagem do valor de mercado:\n"
   ]
  },
  {
   "cell_type": "code",
   "execution_count": 37,
   "metadata": {
    "colab": {
     "base_uri": "https://localhost:8080/"
    },
    "id": "_el1OtbEuKjS",
    "outputId": "050b8877-e101-467d-c4cd-9c58a361eaa9"
   },
   "outputs": [],
   "source": [
    "df['vlr_relativo'] = df['vlr_anuncio']/df['vlr_mercado']"
   ]
  },
  {
   "cell_type": "markdown",
   "metadata": {
    "id": "zGSxHSP0Kf_J"
   },
   "source": [
    "Em posse desse novo valor, podemos fazer mais uma limpeza: Considerando altamente improvável que algum veículo seja anunciado por um valor maior ou igual ao dobro de seu valor de mercado, checamos se temos dados assim, e quantos:\n"
   ]
  },
  {
   "cell_type": "code",
   "execution_count": 38,
   "metadata": {
    "colab": {
     "base_uri": "https://localhost:8080/",
     "height": 143
    },
    "id": "HR1mBxHOK123",
    "outputId": "edf59daa-4bed-44ce-a6d7-8d7384769c83"
   },
   "outputs": [
    {
     "data": {
      "text/html": [
       "<div>\n",
       "<style scoped>\n",
       "    .dataframe tbody tr th:only-of-type {\n",
       "        vertical-align: middle;\n",
       "    }\n",
       "\n",
       "    .dataframe tbody tr th {\n",
       "        vertical-align: top;\n",
       "    }\n",
       "\n",
       "    .dataframe thead th {\n",
       "        text-align: right;\n",
       "    }\n",
       "</style>\n",
       "<table border=\"1\" class=\"dataframe\">\n",
       "  <thead>\n",
       "    <tr style=\"text-align: right;\">\n",
       "      <th></th>\n",
       "      <th>uf</th>\n",
       "      <th>vlr_anuncio</th>\n",
       "      <th>qtd_fotos</th>\n",
       "      <th>km_veiculo</th>\n",
       "      <th>vlr_mercado</th>\n",
       "      <th>flg_unico_dono</th>\n",
       "      <th>flg_licenciado</th>\n",
       "      <th>flg_ipva_pago</th>\n",
       "      <th>flg_todas_revisoes_concessionaria</th>\n",
       "      <th>flg_todas_revisoes_agenda_veiculo</th>\n",
       "      <th>flg_garantia_fabrica</th>\n",
       "    </tr>\n",
       "  </thead>\n",
       "  <tbody>\n",
       "    <tr>\n",
       "      <th>3886</th>\n",
       "      <td>SP</td>\n",
       "      <td>87500.0</td>\n",
       "      <td>8</td>\n",
       "      <td>87500</td>\n",
       "      <td>40421.06136</td>\n",
       "      <td>0</td>\n",
       "      <td>0</td>\n",
       "      <td>0.0</td>\n",
       "      <td>0.0</td>\n",
       "      <td>0</td>\n",
       "      <td>0.0</td>\n",
       "    </tr>\n",
       "    <tr>\n",
       "      <th>24081</th>\n",
       "      <td>RS</td>\n",
       "      <td>69000.0</td>\n",
       "      <td>8</td>\n",
       "      <td>69000</td>\n",
       "      <td>33770.28421</td>\n",
       "      <td>1</td>\n",
       "      <td>0</td>\n",
       "      <td>1.0</td>\n",
       "      <td>0.0</td>\n",
       "      <td>0</td>\n",
       "      <td>0.0</td>\n",
       "    </tr>\n",
       "    <tr>\n",
       "      <th>39053</th>\n",
       "      <td>SP</td>\n",
       "      <td>185000.0</td>\n",
       "      <td>8</td>\n",
       "      <td>0</td>\n",
       "      <td>79832.66700</td>\n",
       "      <td>0</td>\n",
       "      <td>0</td>\n",
       "      <td>0.0</td>\n",
       "      <td>0.0</td>\n",
       "      <td>0</td>\n",
       "      <td>0.0</td>\n",
       "    </tr>\n",
       "  </tbody>\n",
       "</table>\n",
       "</div>"
      ],
      "text/plain": [
       "       uf  vlr_anuncio  qtd_fotos  km_veiculo  vlr_mercado  flg_unico_dono  \\\n",
       "3886   SP      87500.0          8       87500  40421.06136               0   \n",
       "24081  RS      69000.0          8       69000  33770.28421               1   \n",
       "39053  SP     185000.0          8           0  79832.66700               0   \n",
       "\n",
       "       flg_licenciado  flg_ipva_pago  flg_todas_revisoes_concessionaria  \\\n",
       "3886                0            0.0                                0.0   \n",
       "24081               0            1.0                                0.0   \n",
       "39053               0            0.0                                0.0   \n",
       "\n",
       "       flg_todas_revisoes_agenda_veiculo  flg_garantia_fabrica  \n",
       "3886                                   0                   0.0  \n",
       "24081                                  0                   0.0  \n",
       "39053                                  0                   0.0  "
      ]
     },
     "execution_count": 38,
     "metadata": {},
     "output_type": "execute_result"
    }
   ],
   "source": [
    "df_show(df[df['vlr_relativo'] >= 2])"
   ]
  },
  {
   "cell_type": "markdown",
   "metadata": {
    "id": "TiRjdihkLhTt"
   },
   "source": [
    "Vemos que são 3 veículos. Um deles é blindado, o que pode justificar seu alto valor relativo, mas os outros dois não, então nos desfazemos deles por parecerem inconsistentes."
   ]
  },
  {
   "cell_type": "code",
   "execution_count": 39,
   "metadata": {
    "colab": {
     "base_uri": "https://localhost:8080/"
    },
    "id": "Vi7oN20XL6wH",
    "outputId": "59736bd3-2b72-4fff-f3e9-3305c3e0d260"
   },
   "outputs": [],
   "source": [
    "df.drop(df[(df['vlr_relativo'] > 2) & (df['vlr_relativo'] < 2.3)].index, inplace=True)\n"
   ]
  },
  {
   "cell_type": "markdown",
   "metadata": {
    "id": "waLur-aKursL"
   },
   "source": [
    "## Desejáveis\n",
    "\n",
    "Temos diversas colunas em nosso dataframe indicando se há presença de itens como freio ABS, vidros elétricos, ar condicionado. Ao comprar um veículo, um comprador provavelmente irá buscar maximizar a quantidade desses itens que ele poderá ter. Também há outros fatores desejáveis, como garantia de fábrica e IPVA pago, que também são características que agregam valor ao veículo e são desejáveis de maneira geral. Assim, criamos a coluna `desejaveis`, que irá ser a soma dos valores das seguintes colunas:\n",
    "\n",
    "- `flg_unico_dono`;\n",
    "- `flg_ipva_pago`;\n",
    "- `flg_licenciado`;\n",
    "- `flg_todas_revisoes_concessionaria`;\n",
    "- `flg_todas_revisoes_agenda_veiculo`;\n",
    "- `flg_garantia_fabrica`;\n",
    "- `alarme`;\n",
    "- `airbag`;\n",
    "- `arquente`;\n",
    "- `arcondic`;\n",
    "- `abs`;\n",
    "- `desembtras`;\n",
    "- `travaeletr`;\n",
    "- `vidroseletr`;\n",
    "- `rodasliga`;\n",
    "- `sensorchuva`;\n",
    "- `sensorestacion`;\n",
    "\n",
    "Também consideramos desejável que o valor do anúncio esteja abaixo do valor de mercado do veículo (isto é, que valor relativo seja menor do que 1), e levamos isso em conta na hora de construir essa nova feature.\n",
    "\n",
    " Evidentemente deixamos de fora algumas colunas por entendermos que um carro ser blindado, aceitar trocar, ser adaptado a PCD, ou possuir banco de couro pode não ser algo desejável a todo e qualquer comprador.  "
   ]
  },
  {
   "cell_type": "code",
   "execution_count": 40,
   "metadata": {
    "colab": {
     "base_uri": "https://localhost:8080/"
    },
    "id": "i7GHrPIKs_9-",
    "outputId": "f106f463-2057-4e2e-b002-8dd54dd9da26"
   },
   "outputs": [],
   "source": [
    "df['desejaveis'] = ( [int(x < 1) for x in df['vlr_relativo']]  # indica se vlr_anuncio é menor que vlr_mercado\n",
    "                    + df['flg_unico_dono']\n",
    "                    + df['flg_ipva_pago']\n",
    "                    + df['flg_todas_revisoes_concessionaria']\n",
    "                    + df['flg_todas_revisoes_concessionaria']\n",
    "                    + df['flg_todas_revisoes_agenda_veiculo']\n",
    "                    + df['flg_garantia_fabrica']\n",
    "                    + df['alarme']\n",
    "                    + df['airbag']\n",
    "                    + df['arquente']\n",
    "                    + df['arcondic']\n",
    "                    + df['abs']\n",
    "                    + df['desembtras']\n",
    "                    + df['travaeletr']\n",
    "                    + df['vidroseletr']\n",
    "                    + df['rodasliga']\n",
    "                    + df['sensorchuva']\n",
    "                    + df['sensorestacion'] )"
   ]
  },
  {
   "cell_type": "markdown",
   "metadata": {
    "id": "MMVaR-x6zN8C"
   },
   "source": [
    "E agora, podemos olhar uma amostra do nosso dataset:"
   ]
  },
  {
   "cell_type": "code",
   "execution_count": 41,
   "metadata": {
    "id": "Uq9qZt5-vVv6"
   },
   "outputs": [],
   "source": [
    "amostra = df.sample(6)"
   ]
  },
  {
   "cell_type": "code",
   "execution_count": 46,
   "metadata": {
    "colab": {
     "base_uri": "https://localhost:8080/",
     "height": 301
    },
    "id": "K1kFIJvJvYm7",
    "outputId": "f13d18e0-4f41-4243-a98d-089770798ddd"
   },
   "outputs": [
    {
     "data": {
      "text/html": [
       "<div>\n",
       "<style scoped>\n",
       "    .dataframe tbody tr th:only-of-type {\n",
       "        vertical-align: middle;\n",
       "    }\n",
       "\n",
       "    .dataframe tbody tr th {\n",
       "        vertical-align: top;\n",
       "    }\n",
       "\n",
       "    .dataframe thead th {\n",
       "        text-align: right;\n",
       "    }\n",
       "</style>\n",
       "<table border=\"1\" class=\"dataframe\">\n",
       "  <thead>\n",
       "    <tr style=\"text-align: right;\">\n",
       "      <th></th>\n",
       "      <th>flg_garantia_fabrica</th>\n",
       "      <th>flg_blindado</th>\n",
       "      <th>flg_aceita_troca</th>\n",
       "      <th>flg_adaptado_pcd</th>\n",
       "      <th>combustivel</th>\n",
       "      <th>cambio</th>\n",
       "      <th>portas</th>\n",
       "      <th>alarme</th>\n",
       "      <th>airbag</th>\n",
       "      <th>arquente</th>\n",
       "      <th>bancocouro</th>\n",
       "    </tr>\n",
       "  </thead>\n",
       "  <tbody>\n",
       "    <tr>\n",
       "      <th>17505</th>\n",
       "      <td>0.0</td>\n",
       "      <td>0</td>\n",
       "      <td>0</td>\n",
       "      <td>0.0</td>\n",
       "      <td>gasolina e alcool</td>\n",
       "      <td>manual</td>\n",
       "      <td>4.0</td>\n",
       "      <td>1.0</td>\n",
       "      <td>1.0</td>\n",
       "      <td>1.0</td>\n",
       "      <td>0.0</td>\n",
       "    </tr>\n",
       "    <tr>\n",
       "      <th>40847</th>\n",
       "      <td>0.0</td>\n",
       "      <td>0</td>\n",
       "      <td>0</td>\n",
       "      <td>0.0</td>\n",
       "      <td>gasolina e alcool</td>\n",
       "      <td>manual</td>\n",
       "      <td>4.0</td>\n",
       "      <td>0.0</td>\n",
       "      <td>0.0</td>\n",
       "      <td>0.0</td>\n",
       "      <td>0.0</td>\n",
       "    </tr>\n",
       "    <tr>\n",
       "      <th>11705</th>\n",
       "      <td>0.0</td>\n",
       "      <td>0</td>\n",
       "      <td>0</td>\n",
       "      <td>0.0</td>\n",
       "      <td>gasolina e alcool</td>\n",
       "      <td>manual</td>\n",
       "      <td>4.0</td>\n",
       "      <td>0.0</td>\n",
       "      <td>0.0</td>\n",
       "      <td>0.0</td>\n",
       "      <td>0.0</td>\n",
       "    </tr>\n",
       "    <tr>\n",
       "      <th>36756</th>\n",
       "      <td>0.0</td>\n",
       "      <td>0</td>\n",
       "      <td>0</td>\n",
       "      <td>0.0</td>\n",
       "      <td>gasolina e alcool</td>\n",
       "      <td>manual</td>\n",
       "      <td>4.0</td>\n",
       "      <td>1.0</td>\n",
       "      <td>0.0</td>\n",
       "      <td>0.0</td>\n",
       "      <td>0.0</td>\n",
       "    </tr>\n",
       "    <tr>\n",
       "      <th>38096</th>\n",
       "      <td>0.0</td>\n",
       "      <td>0</td>\n",
       "      <td>0</td>\n",
       "      <td>0.0</td>\n",
       "      <td>gasolina e alcool</td>\n",
       "      <td>automatico</td>\n",
       "      <td>4.0</td>\n",
       "      <td>1.0</td>\n",
       "      <td>1.0</td>\n",
       "      <td>0.0</td>\n",
       "      <td>0.0</td>\n",
       "    </tr>\n",
       "    <tr>\n",
       "      <th>24135</th>\n",
       "      <td>0.0</td>\n",
       "      <td>0</td>\n",
       "      <td>0</td>\n",
       "      <td>0.0</td>\n",
       "      <td>gasolina e alcool</td>\n",
       "      <td>manual</td>\n",
       "      <td>4.0</td>\n",
       "      <td>1.0</td>\n",
       "      <td>1.0</td>\n",
       "      <td>0.0</td>\n",
       "      <td>0.0</td>\n",
       "    </tr>\n",
       "  </tbody>\n",
       "</table>\n",
       "</div>"
      ],
      "text/plain": [
       "       flg_garantia_fabrica  flg_blindado  flg_aceita_troca  flg_adaptado_pcd  \\\n",
       "17505                   0.0             0                 0               0.0   \n",
       "40847                   0.0             0                 0               0.0   \n",
       "11705                   0.0             0                 0               0.0   \n",
       "36756                   0.0             0                 0               0.0   \n",
       "38096                   0.0             0                 0               0.0   \n",
       "24135                   0.0             0                 0               0.0   \n",
       "\n",
       "             combustivel      cambio  portas alarme airbag arquente bancocouro  \n",
       "17505  gasolina e alcool      manual     4.0    1.0    1.0      1.0        0.0  \n",
       "40847  gasolina e alcool      manual     4.0    0.0    0.0      0.0        0.0  \n",
       "11705  gasolina e alcool      manual     4.0    0.0    0.0      0.0        0.0  \n",
       "36756  gasolina e alcool      manual     4.0    1.0    0.0      0.0        0.0  \n",
       "38096  gasolina e alcool  automatico     4.0    1.0    1.0      0.0        0.0  \n",
       "24135  gasolina e alcool      manual     4.0    1.0    1.0      0.0        0.0  "
      ]
     },
     "execution_count": 46,
     "metadata": {},
     "output_type": "execute_result"
    }
   ],
   "source": [
    "#Rode esta célula várias vezes\n",
    "df_show(amostra)"
   ]
  },
  {
   "cell_type": "markdown",
   "metadata": {
    "id": "mEe5OSz9hN53"
   },
   "source": [
    "# Análise\n",
    "\n",
    "## Views e Cliques de Telefone\n",
    "\n",
    "Queremos investigar as relações entre a quantidade de leads e o resto dos dados. Vamos começar exibindo um gráfico da quantidade de leads pela quantidade de visualizações:\n"
   ]
  },
  {
   "cell_type": "code",
   "execution_count": 47,
   "metadata": {
    "colab": {
     "base_uri": "https://localhost:8080/",
     "height": 1000
    },
    "id": "3T42y3AWbn8M",
    "outputId": "812f7fd6-0b86-4e33-d0bc-241fcf15d7bb"
   },
   "outputs": [
    {
     "data": {
      "image/png": "[encoded data removed]",
      "text/plain": [
       "<Figure size 500x500 with 1 Axes>"
      ]
     },
     "metadata": {},
     "output_type": "display_data"
    }
   ],
   "source": [
    "dataplot(df, 'views', 'leads')"
   ]
  },
  {
   "cell_type": "markdown",
   "metadata": {
    "id": "hMG0s8nGbvXE"
   },
   "source": [
    "Vemos que um número alto de visualizações não garante um número alto de leads. Na verdade, um alto número de views pode até mesmo ser consequência de um baixo número de leads: se o anúncio não desperta atenção de compradores a ponto de sequer receber propostas, ele não será vendido e, portanto, está sujeito a receber cada vez mais visualizações.\n",
    "\n",
    "\n",
    "O gráfico, entretanto, deixa nítido que mesmo anúncios com muitas visualizações recebem leads.\n",
    "\n",
    "Já sobre os cliques no telefone do anúncio, o gráfico abaixo parece indicar uma tendência um aumento nos cliques de telefone parecem gerar mais leads.  "
   ]
  },
  {
   "cell_type": "code",
   "execution_count": 48,
   "metadata": {
    "colab": {
     "base_uri": "https://localhost:8080/",
     "height": 1000
    },
    "id": "qqqEyz67rEwY",
    "outputId": "3611ea7e-3ee7-4f43-c22d-51d43a4c06c3"
   },
   "outputs": [
    {
     "data": {
      "image/png": "[encoded data removed]",
      "text/plain": [
       "<Figure size 500x500 with 1 Axes>"
      ]
     },
     "metadata": {},
     "output_type": "display_data"
    }
   ],
   "source": [
    "dataplot(df, 'cliques_telefone', 'leads')"
   ]
  },
  {
   "cell_type": "markdown",
   "metadata": {
    "id": "qSwTGQSsbNID"
   },
   "source": [
    "## Valor de Anúncio\n",
    "\n",
    "A quantidade de leads certamente vai ter alguma relação com os valores de anúncio e de mercado de veículo. Podemos então plotar um gráfico de leads por valor de anúncio, ou de leads por valor de mercado, para ver como a quantidade de leads se comporta em relação a esses valores. Como já vimos, os dados `'vlr_mercado'` e `'vlr_anuncio'` são muito próximos e basta plotar um deles para termos uma noção do que acontece."
   ]
  },
  {
   "cell_type": "code",
   "execution_count": 49,
   "metadata": {
    "colab": {
     "base_uri": "https://localhost:8080/",
     "height": 1000
    },
    "id": "lXw1lfYBzUNb",
    "outputId": "30d12649-1805-4a4e-c331-282aa285a17a"
   },
   "outputs": [
    {
     "data": {
      "image/png": "[encoded data removed]",
      "text/plain": [
       "<Figure size 500x500 with 1 Axes>"
      ]
     },
     "metadata": {},
     "output_type": "display_data"
    }
   ],
   "source": [
    "dataplot(df, 'vlr_anuncio', 'leads')"
   ]
  },
  {
   "cell_type": "markdown",
   "metadata": {
    "id": "8WTAU_cO06j7"
   },
   "source": [
    "Podemos separar os dados plotados acima em dois grupos. Os dados cujo valor de anúncio é menor que o valor de mercado (`'vlr_relativo'` < 1), e os dados cujo valor de anúncio é maior ou igual o valor de mercado(`'vlr_relativo'` ≥ 1)."
   ]
  },
  {
   "cell_type": "code",
   "execution_count": 52,
   "metadata": {
    "colab": {
     "base_uri": "https://localhost:8080/",
     "height": 541
    },
    "id": "_q_M_pVH1X7v",
    "outputId": "7fa774dd-3cd6-42f0-f5d5-a2cf46d6d04a"
   },
   "outputs": [
    {
     "data": {
      "image/png": "[encoded data removed]",
      "text/plain": [
       "<Figure size 1800x600 with 2 Axes>"
      ]
     },
     "metadata": {},
     "output_type": "display_data"
    }
   ],
   "source": [
    "plt.figure(figsize = (18,6))\n",
    "\n",
    "plt.subplot(1, 2, 1)\n",
    "plt.plot(df[df['vlr_relativo'] < 1]['vlr_anuncio'],\n",
    "         df[df['vlr_relativo'] < 1]['leads'],\n",
    "         marker ='.', linestyle = 'none')\n",
    "plt.title(\"'vlr_relativo' < 1\")\n",
    "plt.xlabel(\"'vlr_anuncio'\")\n",
    "plt.ylabel(\"leads\")\n",
    "\n",
    "plt.subplot(1, 2, 2)\n",
    "plt.plot(df[df['vlr_relativo'] >= 1]['vlr_anuncio'],\n",
    "         df[df['vlr_relativo'] >= 1]['leads'],\n",
    "         marker ='.', linestyle = 'none')\n",
    "plt.plot(800000, 350) #gambiarra fácil pra deixar os gráficos em mesma escala\n",
    "plt.title(\"'vlr_relativo' ≥ 1\")\n",
    "plt.xlabel(\"'vlr_anuncio'\")\n",
    "plt.ylabel(\"leads\")\n",
    "\n",
    "plt.show()"
   ]
  },
  {
   "cell_type": "markdown",
   "metadata": {
    "id": "KkQB-Cm_4njK"
   },
   "source": [
    "O que vemos acima é um indicativo de que veículos com valor relativo menor do que 1 recebem mais leads do que veículos com valor relativo maior ou igual a 1. As quantidades de leads registradas são claramente superiores para anúncios com valor abaixo de R\\\\$ 200.000,00. Dos R\\\\$ 400.000,00 em diante há poucos dados para comparar, mas não parece haver diferença. Possivelmente porque a partir de certo ponto, o valor do anúncio perde a relevância.\n",
    "\n",
    "Podemos olhar o gráfico de Leads por valor relativo:"
   ]
  },
  {
   "cell_type": "code",
   "execution_count": 53,
   "metadata": {
    "colab": {
     "base_uri": "https://localhost:8080/",
     "height": 1000
    },
    "id": "6ozE3kXvno6Y",
    "outputId": "e555c8ec-1815-4064-f9d2-08a38d0e483b"
   },
   "outputs": [
    {
     "data": {
      "image/png": "[encoded data removed]",
      "text/plain": [
       "<Figure size 500x500 with 1 Axes>"
      ]
     },
     "metadata": {},
     "output_type": "display_data"
    }
   ],
   "source": [
    "dataplot(df[df['cod_tipo_pessoa'] == 2], 'vlr_relativo', 'leads')"
   ]
  },
  {
   "cell_type": "markdown",
   "metadata": {
    "id": "eK8LuOQdBgeV"
   },
   "source": [
    "Aqui é fácil perceber que quase todos os anúncios que receberam ao menos 100 leads tem valor relativo menor que 1. E a esmagadora maioria dos anúncios que receberam mais de 50 leads tem valor relativo menor do que 1. Mas também, ao que parece, temos mais veículos anunciados com valor relativo menor que 1. Checamos isso precisamente abaixo:"
   ]
  },
  {
   "cell_type": "markdown",
   "metadata": {
    "id": "kgK754cSCPOU"
   },
   "source": [
    "Quantidade de anúncios com valor relativo maior ou igual a 1:"
   ]
  },
  {
   "cell_type": "code",
   "execution_count": 54,
   "metadata": {
    "colab": {
     "base_uri": "https://localhost:8080/"
    },
    "id": "cvJe3WONCtiS",
    "outputId": "c371cb0a-ed37-4a16-f3d9-2939a3d59508"
   },
   "outputs": [
    {
     "data": {
      "text/plain": [
       "18588"
      ]
     },
     "execution_count": 54,
     "metadata": {},
     "output_type": "execute_result"
    }
   ],
   "source": [
    "alto_valor_relativo = len(  df  [df['vlr_relativo'] >= 1] )\n",
    "alto_valor_relativo"
   ]
  },
  {
   "cell_type": "markdown",
   "metadata": {
    "id": "DB1s8dqeClKK"
   },
   "source": [
    "Quantidade de anúncios com valor relativo menor do que 1:"
   ]
  },
  {
   "cell_type": "code",
   "execution_count": 55,
   "metadata": {
    "colab": {
     "base_uri": "https://localhost:8080/"
    },
    "id": "brnQM_XICqBB",
    "outputId": "8aafb830-1efa-49ea-df0f-2cc25be3f0a4"
   },
   "outputs": [
    {
     "data": {
      "text/plain": [
       "20884"
      ]
     },
     "execution_count": 55,
     "metadata": {},
     "output_type": "execute_result"
    }
   ],
   "source": [
    "baixo_valor_relativo = len(df[(df['vlr_relativo'] < 1)])\n",
    "baixo_valor_relativo"
   ]
  },
  {
   "cell_type": "code",
   "execution_count": 56,
   "metadata": {
    "colab": {
     "base_uri": "https://localhost:8080/"
    },
    "id": "XReoDIihDaiO",
    "outputId": "d348eea2-f772-4883-82e3-161647a39ddc"
   },
   "outputs": [
    {
     "data": {
      "text/plain": [
       "1.123399677245831"
      ]
     },
     "execution_count": 56,
     "metadata": {},
     "output_type": "execute_result"
    }
   ],
   "source": [
    "20884/18590"
   ]
  },
  {
   "cell_type": "markdown",
   "metadata": {
    "id": "0xrhr7bVDU1a"
   },
   "source": [
    "De fato, há mais anúncios com valor relativo menor do que 1 do que anúncios com valor relativo maior ou igual a 1, mas a diferença não é tanta. O primeiro conjunto é aproximadamente 12% maior que o segundo. Há uma outra informação que chama mais atenção:"
   ]
  },
  {
   "cell_type": "code",
   "execution_count": 57,
   "metadata": {
    "colab": {
     "base_uri": "https://localhost:8080/"
    },
    "id": "xZfGXQY89C0Z",
    "outputId": "0b0e1e1a-0639-40e8-d2da-0ed69d79955b"
   },
   "outputs": [
    {
     "data": {
      "text/plain": [
       "0.2396169571766731"
      ]
     },
     "execution_count": 57,
     "metadata": {},
     "output_type": "execute_result"
    }
   ],
   "source": [
    "pct_alto = len(\n",
    "          df[\n",
    "              (df['vlr_relativo'] >= 1) &\n",
    "              (df['leads'] == 0)\n",
    "            ]\n",
    "          )\n",
    "\n",
    "pct_alto/alto_valor_relativo"
   ]
  },
  {
   "cell_type": "code",
   "execution_count": 58,
   "metadata": {
    "colab": {
     "base_uri": "https://localhost:8080/"
    },
    "id": "fPFPLqwfEyyI",
    "outputId": "8d66e04c-1998-4a6c-8772-1ec3069ab13f"
   },
   "outputs": [
    {
     "data": {
      "text/plain": [
       "0.21016088871863628"
      ]
     },
     "execution_count": 58,
     "metadata": {},
     "output_type": "execute_result"
    }
   ],
   "source": [
    "pct_baixo = len(\n",
    "          df[\n",
    "              (df['vlr_relativo'] < 1) &\n",
    "              (df['leads'] == 0)\n",
    "            ]\n",
    "          )\n",
    "\n",
    "pct_baixo/baixo_valor_relativo"
   ]
  },
  {
   "cell_type": "markdown",
   "metadata": {
    "id": "mgQuTVCtFMc7"
   },
   "source": [
    "Embora haja mais dados com valor relativo menor do que 1, uma porcentagem menor desses dados não tem leads (aproximadamente 21%) em comparação aos anúncios com valor relativo maior ou igual a 1, para os quais aproximadamente 24% dos anúncios não possuem leads. A diferença, entretanto, é pequena, mas é um indicativo interessante que certamente vale a pena ser observado em um conjunto de dados maior e em uma análise mais aprofundada."
   ]
  },
  {
   "cell_type": "markdown",
   "metadata": {
    "id": "QKwJbDhBGZFj"
   },
   "source": [
    "## Desejáveis\n",
    "\n",
    "Aqui fazemos uma breve análise da relação da quantidade de leads com a quantidade de itens desejáveis. Começamos colando isso em gráfico:  "
   ]
  },
  {
   "cell_type": "code",
   "execution_count": 59,
   "metadata": {
    "colab": {
     "base_uri": "https://localhost:8080/",
     "height": 1000
    },
    "id": "MI7LQYG-G0RG",
    "outputId": "dc649a39-60d2-47b1-a900-fab268c8606d"
   },
   "outputs": [
    {
     "data": {
      "image/png": "[encoded data removed]",
      "text/plain": [
       "<Figure size 500x500 with 1 Axes>"
      ]
     },
     "metadata": {},
     "output_type": "display_data"
    }
   ],
   "source": [
    "dataplot(df, 'desejaveis', 'leads')"
   ]
  },
  {
   "cell_type": "markdown",
   "metadata": {
    "id": "avsL7NYaIDgT"
   },
   "source": [
    "Vê-se que carros que não possuem nenhum dos agregadores de valor definidos na coluna `'desejaveis'` registram as menores quantidades de leads.\n"
   ]
  },
  {
   "cell_type": "markdown",
   "metadata": {
    "id": "91YW-YeCRevy"
   },
   "source": [
    "# Modelagem\n",
    "\n",
    "Vamos criar um modelo de Regressão Logística para prever se haverá ou não leads para um determinado anúncio."
   ]
  },
  {
   "cell_type": "markdown",
   "metadata": {
    "id": "rQL1J-TMTfTv"
   },
   "source": [
    "## Preparação\n",
    "Aqui, vamos criar um dataframe novo para trabalharmos em cima dele. Para simplificar o modelo, iremos considerar apenas algumas colunas. Deveríamos, entretanto, em um projeto real, dispor de mais tempo para trabalhar melhor as features a serem usadas, e elaborar features melhores para o modelo."
   ]
  },
  {
   "cell_type": "code",
   "execution_count": 60,
   "metadata": {
    "id": "uNnScZOOT7go"
   },
   "outputs": [],
   "source": [
    "df_model = df[[\n",
    "               'vlr_anuncio',\n",
    "               'vlr_relativo',\n",
    "               'km_veiculo',\n",
    "               'ano_modelo',\n",
    "               'views',\n",
    "               'qtd_fotos',\n",
    "               'cliques_telefone',\n",
    "               'uf',\n",
    "               'cod_tipo_pessoa',\n",
    "               'prioridade',\n",
    "               'cod_marca_veiculo',\n",
    "               'cod_modelo_veiculo',\n",
    "               'flg_unico_dono',\n",
    "               'flg_licenciado',\n",
    "               'flg_ipva_pago',\n",
    "               'flg_todas_revisoes_concessionaria',\n",
    "               'flg_todas_revisoes_agenda_veiculo',\n",
    "               'flg_garantia_fabrica',\n",
    "               'flg_blindado',\n",
    "               'alarme',\n",
    "               'airbag',\n",
    "               'arquente',\n",
    "               'arcondic',\n",
    "               'abs',\n",
    "               'desembtras',\n",
    "               'travaeletr',\n",
    "               'vidroseletr',\n",
    "               'rodasliga',\n",
    "               'sensorchuva',\n",
    "               'sensorestacion',\n",
    "               'desejaveis',\n",
    "               'leads'\n",
    "]]\n"
   ]
  },
  {
   "cell_type": "markdown",
   "metadata": {
    "id": "uzGgW4HFgWjX"
   },
   "source": [
    "Agora, transformamos dados categóricos:"
   ]
  },
  {
   "cell_type": "code",
   "execution_count": 61,
   "metadata": {
    "id": "PjY9qISSgbZq"
   },
   "outputs": [],
   "source": [
    "cat_data = ['uf', 'cod_tipo_pessoa', 'cod_marca_veiculo', 'cod_modelo_veiculo']\n",
    "dummies = pd.get_dummies(df_model[cat_data].astype(str), drop_first=False)\n"
   ]
  },
  {
   "cell_type": "markdown",
   "metadata": {
    "id": "2rDprRuuiDfa"
   },
   "source": [
    "E juntamos ao dataset que será usado:"
   ]
  },
  {
   "cell_type": "code",
   "execution_count": 62,
   "metadata": {
    "id": "ub8L6hWaiGec"
   },
   "outputs": [],
   "source": [
    "df_model = pd.concat([df_model, dummies], axis=1)\n",
    "df_model = df_model.drop(cat_data, axis =1)"
   ]
  },
  {
   "cell_type": "markdown",
   "metadata": {
    "id": "mN57IwNAl6Wg"
   },
   "source": [
    "## Normalização\n",
    "\n",
    "Aqui normalizamos os dados. Para isso, simplesmente dividimos os valores das colunas numéricas pelo maior valor presente nestas colunas."
   ]
  },
  {
   "cell_type": "code",
   "execution_count": 63,
   "metadata": {
    "id": "2HnmnbutmfE0"
   },
   "outputs": [],
   "source": [
    "norm = ['vlr_anuncio', 'vlr_relativo', 'km_veiculo', 'ano_modelo', 'views', 'qtd_fotos', 'cliques_telefone', 'prioridade']\n",
    "for coluna in norm:\n",
    "  df_model[coluna]= df_model[coluna]/df_model[coluna].max()"
   ]
  },
  {
   "cell_type": "markdown",
   "metadata": {
    "id": "l_xvxetMkLwv"
   },
   "source": [
    "## Conjuntos de Treino e Teste\n",
    "\n",
    "Agora, iremos separar os dados em conjuntos de treino e teste."
   ]
  },
  {
   "cell_type": "code",
   "execution_count": 64,
   "metadata": {
    "id": "kzPTe2jDkjFp"
   },
   "outputs": [],
   "source": [
    "y = [int(lead > 0) for lead in df_model['leads']]\n",
    "y = np.array(y)\n",
    "x = df_model.drop(['leads'], axis=1)\n",
    "\n",
    "xtrain, xtest, ytrain, ytest = train_test_split(x, y, test_size=0.3, random_state=28)"
   ]
  },
  {
   "cell_type": "markdown",
   "metadata": {
    "id": "3rlG4rHNpUBj"
   },
   "source": [
    "## Regressão Logística\n",
    "\n",
    " Por fim, vamos treinar o modelo em cima do conjunto de treino."
   ]
  },
  {
   "cell_type": "code",
   "execution_count": null,
   "metadata": {
    "colab": {
     "base_uri": "https://localhost:8080/"
    },
    "id": "qzQ2NDSEusz3",
    "outputId": "e50ba7d1-50aa-4449-d0bf-b50a181bf97b"
   },
   "outputs": [],
   "source": [
    "modelo = LogisticRegression(penalty=None, solver='newton-cg')\n",
    "modelo.fit(xtrain, ytrain)"
   ]
  },
  {
   "cell_type": "markdown",
   "metadata": {
    "id": "FmM3QrjwzWuc"
   },
   "source": [
    "Agora, com o modelo treinado, podemos observar a matriz de confusão:"
   ]
  },
  {
   "cell_type": "code",
   "execution_count": null,
   "metadata": {
    "colab": {
     "base_uri": "https://localhost:8080/"
    },
    "id": "aIlngE1lwm_L",
    "outputId": "943b622c-9435-4cb5-eea6-3e9d7e1a73f6"
   },
   "outputs": [],
   "source": [
    "confusion_matrix(ytest, modelo.predict(xtest))"
   ]
  },
  {
   "cell_type": "markdown",
   "metadata": {
    "id": "22Vtjr0Wzg_G"
   },
   "source": [
    "E também um report de classificação:"
   ]
  },
  {
   "cell_type": "code",
   "execution_count": null,
   "metadata": {
    "colab": {
     "base_uri": "https://localhost:8080/"
    },
    "id": "WqWqvhONxffT",
    "outputId": "d2deafc4-4438-4337-a3fd-171de96990c6"
   },
   "outputs": [],
   "source": [
    "print(classification_report(y, modelo.predict(x)))"
   ]
  },
  {
   "cell_type": "markdown",
   "metadata": {
    "id": "k6G4TN-nzoQF"
   },
   "source": [
    "O modelo de Regressão Logística pode ser aplicado para resolver o problema que temos aqui, mas precisaria de mais trabalho para ficar realmente bom. Muitos fatores podem influenciar na precisão e na acurácia de um modelo. Para treinar um modelo que realmente funcione, precisaríamos de um pouco mais de tempo.\n",
    "\n",
    "Seria necessário analisar melhor os dados, levantar mais hipóteses e perguntas durante a fase de Feature Engineering para criar features mais adequadas, testar parâmetros diferentes na hora de treinar o modelo, e selecionar melhor as features que irão para o treino do modelo, possivelmente com alguma técnica de redução de dimensionalidade como PCA ou SVD."
   ]
  }
 ],
 "metadata": {
  "colab": {
   "provenance": []
  },
  "kernelspec": {
   "display_name": "myenv",
   "language": "python",
   "name": "myenv"
  },
  "language_info": {
   "codemirror_mode": {
    "name": "ipython",
    "version": 3
   },
   "file_extension": ".py",
   "mimetype": "text/x-python",
   "name": "python",
   "nbconvert_exporter": "python",
   "pygments_lexer": "ipython3",
   "version": "3.10.13"
  }
 },
 "nbformat": 4,
 "nbformat_minor": 4
}
